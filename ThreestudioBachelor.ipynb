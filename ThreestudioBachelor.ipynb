{
  "cells": [
    {
      "cell_type": "markdown",
      "metadata": {
        "id": "NabXluTTlvi9"
      },
      "source": [
        "# Initialize"
      ]
    },
    {
      "cell_type": "markdown",
      "metadata": {
        "id": "2tO2pV8OldgR"
      },
      "source": [
        "### Hugging Face"
      ]
    },
    {
      "cell_type": "code",
      "execution_count": null,
      "metadata": {
        "id": "_qoStFhjABCd"
      },
      "outputs": [],
      "source": [
        "#get token from https://huggingface.co/\n",
        "from huggingface_hub import interpreter_login\n",
        "\n",
        "interpreter_login()"
      ]
    },
    {
      "cell_type": "markdown",
      "metadata": {
        "id": "o4yW1mXSljd8"
      },
      "source": [
        "### Connect to Drive\n",
        "\n",
        "Required to save results in Cloud"
      ]
    },
    {
      "cell_type": "code",
      "execution_count": null,
      "metadata": {
        "colab": {
          "base_uri": "https://localhost:8080/"
        },
        "id": "FO09hW5zdb81",
        "outputId": "9455d9c2-5253-460f-d705-20b1fe777286"
      },
      "outputs": [
        {
          "output_type": "stream",
          "name": "stdout",
          "text": [
            "Mounted at /content/drive\n"
          ]
        }
      ],
      "source": [
        "from google.colab import drive\n",
        "drive.mount('/content/drive')"
      ]
    },
    {
      "cell_type": "markdown",
      "metadata": {
        "id": "S7vZFQkeq_Vk"
      },
      "source": [
        "### get dependencies and load repos\n",
        "\n",
        "Loads threestudio, Wonder3D, and Evaluate3D (including CLIP and trimesh) from https://github.com/threestudio-project/threestudio.git\n",
        "\n",
        "#### FOR THREESTUDIO:\n",
        "go to \\\\\n",
        "/content/threestudio/threestudio/models/exporters/mesh_exporter.py (line 30) \\\\\n",
        "/content/threestudio/threestudio/models/renderers/nvdiff_rasterizer.py (line 21) \\\\\n",
        "and change context_type: str = \"gl\" to context_type: str = \"cuda\"  \\\\\n",
        "\n",
        "Also, go to \\\\\n",
        "/content/threestudio/threestudio/utils/rasterize.py \\\\\n",
        "and add context_type: str = \"cuda\" between line 9 and 10 \\\\\n",
        "\n",
        "save all changes (Strg + S); can already be done after Threestudio Github was cloned and other dependencies are still loading\\\\\n",
        "\n",
        "Additionally, change config files in to increase iteration steps etc \\\\\n",
        "\n",
        "DreamFusion: /content/threestudio/configs/dreamfusion-if.yaml \\\\\n",
        "Magic3D: /content/threestudio/configs/magic3d-coarse-if.yaml and /content/threestudio/configs/magic3d-refine-sd.yaml \\\\\n",
        "Fantasia3D: /content/threestudio/configs/fantasia3d.yaml and /content/threestudio/configs/fantasia3d-texture.yaml \\\\\n",
        "Magic123: /content/threestudio/configs/magic123-coarse-sd.yaml and /content/threestudio/configs/magic123-refine-sd.yaml"
      ]
    },
    {
      "cell_type": "code",
      "execution_count": null,
      "metadata": {
        "id": "PvIacDrl9n7N"
      },
      "outputs": [],
      "source": [
        "import os\n",
        "!git clone https://github.com/threestudio-project/threestudio.git\n",
        "%cd threestudio\n",
        "\n",
        "!pip install ninja\n",
        "!pip install lightning==2.0.0 omegaconf==2.3.0 jaxtyping typeguard diffusers transformers accelerate opencv-python tensorboard matplotlib imageio imageio[ffmpeg] trimesh bitsandbytes sentencepiece safetensors huggingface_hub libigl xatlas networkx pysdf PyMCubes wandb torchmetrics controlnet_aux\n",
        "!pip install einops kornia taming-transformers-rom1504 git+https://github.com/openai/CLIP.git\n",
        "!pip install open3d\n",
        "!pip install mediapipe\n",
        "!pip install \"diffusers<0.20\"\n",
        "!pip install trimesh\n",
        "!pip install pygltflib\n",
        "\n",
        "!pip install git+https://github.com/ashawkey/envlight.git\n",
        "!pip install git+https://github.com/KAIR-BAIR/nerfacc.git@v0.5.2  # ~5min\n",
        "!pip install git+https://github.com/NVlabs/nvdiffrast.git\n",
        "!pip install git+https://github.com/NVlabs/tiny-cuda-nn/#subdirectory=bindings/torch  # ~20-30min"
      ]
    },
    {
      "cell_type": "markdown",
      "metadata": {
        "id": "J248DMNnmC-A"
      },
      "source": [
        "### Prompt"
      ]
    },
    {
      "cell_type": "code",
      "execution_count": null,
      "metadata": {
        "id": "pZUD5VcS88yz"
      },
      "outputs": [],
      "source": [
        "prompt = \"a symmetrical tennis ball\""
      ]
    },
    {
      "cell_type": "markdown",
      "metadata": {
        "id": "ljZji7eRpzYd"
      },
      "source": [
        "#All Models"
      ]
    },
    {
      "cell_type": "markdown",
      "metadata": {
        "id": "66FsUYtUY-iX"
      },
      "source": [
        "## Threestudio"
      ]
    },
    {
      "cell_type": "markdown",
      "metadata": {
        "id": "IHAos0PdbPsP"
      },
      "source": [
        "###Dreamfusion-if"
      ]
    },
    {
      "cell_type": "code",
      "execution_count": null,
      "metadata": {
        "id": "Uy61bM84K7Qi"
      },
      "outputs": [],
      "source": [
        "# Train\n",
        "!python launch.py --config configs/dreamfusion-if.yaml --train --gpu 0 system.prompt_processor.prompt=\"$prompt\""
      ]
    },
    {
      "cell_type": "code",
      "execution_count": null,
      "metadata": {
        "id": "eHEVInnG0HTn"
      },
      "outputs": [],
      "source": [
        "# Export Mesh (maybe change system.geometry_convert_override.isosurface_threshold=X; increase X if result is extruded, decrease if incomplete; auto = 25) <- does not always work as expected\n",
        "!python launch.py --config /content/threestudio/outputs/dreamfusion-if/a_symmetrical_tennis_ball@20231214-212703/configs/parsed.yaml --export --gpu 0 resume=/content/threestudio/outputs/dreamfusion-if/a_symmetrical_tennis_ball@20231214-212703/ckpts/last.ckpt system.exporter_type=mesh-exporter system.geometry.isosurface_threshold=auto"
      ]
    },
    {
      "cell_type": "code",
      "execution_count": null,
      "metadata": {
        "id": "j9hpZ-HV-oEP"
      },
      "outputs": [],
      "source": [
        "!cp -r /content/threestudio/outputs/dreamfusion-if/ /content/drive/MyDrive/threestudio/"
      ]
    },
    {
      "cell_type": "markdown",
      "metadata": {
        "id": "aDl5PokEbTOS"
      },
      "source": [
        "###Magic3D"
      ]
    },
    {
      "cell_type": "code",
      "execution_count": null,
      "metadata": {
        "id": "tmtgdM6fsjz9"
      },
      "outputs": [],
      "source": [
        "# Train Base\n",
        "!python launch.py --config configs/magic3d-coarse-if.yaml --train --gpu 0 system.prompt_processor.prompt=\"$prompt\""
      ]
    },
    {
      "cell_type": "code",
      "execution_count": null,
      "metadata": {
        "id": "Ok_vjxwvlnXL"
      },
      "outputs": [],
      "source": [
        "# Copy coarse result to Drive\n",
        "!cp -r /content/threestudio/outputs/magic3d-coarse-if/ /content/drive/MyDrive/threestudio/"
      ]
    },
    {
      "cell_type": "code",
      "execution_count": null,
      "metadata": {
        "id": "kZ7NeV7xjtPA"
      },
      "outputs": [],
      "source": [
        "# Train Refine\n",
        "!python launch.py --config configs/magic3d-refine-sd.yaml --train --gpu 0 system.prompt_processor.prompt=\"$prompt\" system.geometry_convert_from=/content/threestudio/outputs/magic3d-coarse-if/a_symmetrical_tennis_ball@20231214-221323/ckpts/last.ckpt"
      ]
    },
    {
      "cell_type": "code",
      "execution_count": null,
      "metadata": {
        "id": "MVhWjxtSuBDG"
      },
      "outputs": [],
      "source": [
        "# Export Mesh Refine\n",
        "!python launch.py --config /content/threestudio/outputs/magic3d-refine-sd/a_symmetrical_tennis_ball@20231214-224124/configs/parsed.yaml --export --gpu 0 resume=/content/threestudio/outputs/magic3d-refine-sd/a_symmetrical_tennis_ball@20231214-224124/ckpts/last.ckpt system.exporter_type=mesh-exporter system.geometry_convert_override.isosurface_threshold=auto"
      ]
    },
    {
      "cell_type": "code",
      "execution_count": null,
      "metadata": {
        "id": "srt6vfe0X6WQ"
      },
      "outputs": [],
      "source": [
        "# Copy refined result to drive\n",
        "!cp -r /content/threestudio/outputs/magic3d-refine-sd/ /content/drive/MyDrive/threestudio/"
      ]
    },
    {
      "cell_type": "markdown",
      "metadata": {
        "id": "_eeOBoecbtrJ"
      },
      "source": [
        "###Fantasia3D"
      ]
    },
    {
      "cell_type": "code",
      "execution_count": null,
      "metadata": {
        "id": "Dm5GgPUit_BV"
      },
      "outputs": [],
      "source": [
        "# Learn the model - geometry stage\n",
        "# Apply fitting Geometry via: system.geometry.shape_init=ellipsoid system.geometry.shape_init_params=\"[0.3,0.3,0.3]\" [depth, width, height]\n",
        "!python launch.py --config configs/fantasia3d.yaml --train --gpu 0 system.prompt_processor.prompt=\"$prompt\""
      ]
    },
    {
      "cell_type": "code",
      "execution_count": null,
      "metadata": {
        "id": "ZLpRjsUsQQOA"
      },
      "outputs": [],
      "source": [
        "# Load from existing mesh                                                                                                                                                                                                                                                                                                       #y z, z y, z x\n",
        "#!python launch.py --config configs/fantasia3d.yaml --train --gpu 0 system.prompt_processor.prompt=\"$prompt\" system.geometry.shape_init=mesh:load/shapes/human.obj system.geometry.shape_init_params=0.9 system.geometry.shape_init_mesh_up=+y system.geometry.shape_init_mesh_front=+z\n"
      ]
    },
    {
      "cell_type": "code",
      "execution_count": null,
      "metadata": {
        "id": "3Av6YopqOlfY"
      },
      "outputs": [],
      "source": [
        "!cp -r /content/threestudio/outputs/fantasia3d/ /content/drive/MyDrive/threestudio/"
      ]
    },
    {
      "cell_type": "code",
      "execution_count": null,
      "metadata": {
        "id": "XtT_vonS-dDX"
      },
      "outputs": [],
      "source": [
        "# Create Texture for Model - appearance stage\n",
        "!python launch.py --config configs/fantasia3d-texture.yaml --train --gpu 0 system.prompt_processor.prompt=\"$prompt\" system.geometry_convert_from=/content/threestudio/outputs/fantasia3d/a_symmetrical_tennis_ball@20231215-003649/ckpts/last.ckpt"
      ]
    },
    {
      "cell_type": "code",
      "execution_count": null,
      "metadata": {
        "id": "wk89l872sfQq"
      },
      "outputs": [],
      "source": [
        "# Export as mesh\n",
        "!python launch.py --config /content/threestudio/outputs/fantasia3d-texture/a_symmetrical_tennis_ball@20231215-005804/configs/parsed.yaml --export --gpu 0 resume=/content/threestudio/outputs/fantasia3d-texture/a_symmetrical_tennis_ball@20231215-005804/ckpts/last.ckpt system.exporter_type=mesh-exporter"
      ]
    },
    {
      "cell_type": "code",
      "execution_count": null,
      "metadata": {
        "id": "5Nse1V5UbFe-"
      },
      "outputs": [],
      "source": [
        "# Copy files to Drive\n",
        "!cp -r /content/threestudio/outputs/fantasia3d-texture/ /content/drive/MyDrive/threestudio/"
      ]
    },
    {
      "cell_type": "markdown",
      "metadata": {
        "id": "aZW8rQp6fOKI"
      },
      "source": [
        "###Magic123"
      ]
    },
    {
      "cell_type": "code",
      "execution_count": null,
      "metadata": {
        "id": "2EiX7Dw-fNfG"
      },
      "outputs": [],
      "source": [
        "# Train coarse\n",
        "!python launch.py --config configs/magic123-coarse-sd.yaml --train --gpu 0 data.image_path=/content/drive/MyDrive/Images/Ball.png system.prompt_processor.prompt=\"$prompt\""
      ]
    },
    {
      "cell_type": "code",
      "execution_count": null,
      "metadata": {
        "id": "n_EO7RNnzwx4"
      },
      "outputs": [],
      "source": [
        "!cp -r /content/threestudio/outputs/magic123-coarse-sd/ /content/drive/MyDrive/threestudio/"
      ]
    },
    {
      "cell_type": "code",
      "execution_count": null,
      "metadata": {
        "id": "PBp0Dnzxfg8B"
      },
      "outputs": [],
      "source": [
        "# Refine\n",
        "!python launch.py --config configs/magic123-refine-sd.yaml --train --gpu 0 data.image_path=/content/drive/MyDrive/Images/Ball.png system.prompt_processor.prompt=\"$prompt\" system.geometry_convert_from=/content/threestudio/outputs/magic123-coarse-sd/Ball.png-a_symmetrical_tennis_ball@20231215-015154/ckpts/last.ckpt"
      ]
    },
    {
      "cell_type": "code",
      "execution_count": null,
      "metadata": {
        "id": "xezhTvN3v6Me"
      },
      "outputs": [],
      "source": [
        "# Export Refine\n",
        "!python launch.py --config /content/threestudio/outputs/magic123-refine-sd/Ball.png-a_symmetrical_tennis_ball@20231215-023142/configs/parsed.yaml --export --gpu 0 resume=/content/threestudio/outputs/magic123-refine-sd/Ball.png-a_symmetrical_tennis_ball@20231215-023142/ckpts/last.ckpt system.exporter_type=mesh-exporter"
      ]
    },
    {
      "cell_type": "code",
      "execution_count": null,
      "metadata": {
        "id": "0wV07py1frLh"
      },
      "outputs": [],
      "source": [
        "!cp -r /content/threestudio/outputs/magic123-refine-sd/ /content/drive/MyDrive/threestudio/"
      ]
    },
    {
      "cell_type": "markdown",
      "metadata": {
        "id": "AnhYsF3cETTx"
      },
      "source": [
        "# Other Models (Threestudio)"
      ]
    },
    {
      "cell_type": "markdown",
      "metadata": {
        "id": "R5oo-JDlbr3-"
      },
      "source": [
        "##Latentnerf"
      ]
    },
    {
      "cell_type": "code",
      "execution_count": null,
      "metadata": {
        "colab": {
          "base_uri": "https://localhost:8080/"
        },
        "id": "Sdw4IkXsuI7x",
        "outputId": "1d497750-72f9-4c8e-bc67-171607a90001"
      },
      "outputs": [
        {
          "name": "stdout",
          "output_type": "stream",
          "text": [
            "2023-11-27 22:14:11.776676: E tensorflow/compiler/xla/stream_executor/cuda/cuda_dnn.cc:9342] Unable to register cuDNN factory: Attempting to register factory for plugin cuDNN when one has already been registered\n",
            "2023-11-27 22:14:11.776727: E tensorflow/compiler/xla/stream_executor/cuda/cuda_fft.cc:609] Unable to register cuFFT factory: Attempting to register factory for plugin cuFFT when one has already been registered\n",
            "2023-11-27 22:14:11.776751: E tensorflow/compiler/xla/stream_executor/cuda/cuda_blas.cc:1518] Unable to register cuBLAS factory: Attempting to register factory for plugin cuBLAS when one has already been registered\n",
            "2023-11-27 22:14:12.816427: W tensorflow/compiler/tf2tensorrt/utils/py_utils.cc:38] TF-TRT Warning: Could not find TensorRT\n",
            "/usr/local/lib/python3.10/dist-packages/controlnet_aux/segment_anything/modeling/tiny_vit_sam.py:654: UserWarning: Overwriting tiny_vit_5m_224 in registry with controlnet_aux.segment_anything.modeling.tiny_vit_sam.tiny_vit_5m_224. This is because the name being registered conflicts with an existing name. Please check if this is not expected.\n",
            "  return register_model(fn_wrapper)\n",
            "/usr/local/lib/python3.10/dist-packages/controlnet_aux/segment_anything/modeling/tiny_vit_sam.py:654: UserWarning: Overwriting tiny_vit_11m_224 in registry with controlnet_aux.segment_anything.modeling.tiny_vit_sam.tiny_vit_11m_224. This is because the name being registered conflicts with an existing name. Please check if this is not expected.\n",
            "  return register_model(fn_wrapper)\n",
            "/usr/local/lib/python3.10/dist-packages/controlnet_aux/segment_anything/modeling/tiny_vit_sam.py:654: UserWarning: Overwriting tiny_vit_21m_224 in registry with controlnet_aux.segment_anything.modeling.tiny_vit_sam.tiny_vit_21m_224. This is because the name being registered conflicts with an existing name. Please check if this is not expected.\n",
            "  return register_model(fn_wrapper)\n",
            "/usr/local/lib/python3.10/dist-packages/controlnet_aux/segment_anything/modeling/tiny_vit_sam.py:654: UserWarning: Overwriting tiny_vit_21m_384 in registry with controlnet_aux.segment_anything.modeling.tiny_vit_sam.tiny_vit_21m_384. This is because the name being registered conflicts with an existing name. Please check if this is not expected.\n",
            "  return register_model(fn_wrapper)\n",
            "/usr/local/lib/python3.10/dist-packages/controlnet_aux/segment_anything/modeling/tiny_vit_sam.py:654: UserWarning: Overwriting tiny_vit_21m_512 in registry with controlnet_aux.segment_anything.modeling.tiny_vit_sam.tiny_vit_21m_512. This is because the name being registered conflicts with an existing name. Please check if this is not expected.\n",
            "  return register_model(fn_wrapper)\n",
            "Seed set to 0\n",
            "\u001b[32m[INFO] Loading Stable Diffusion ...\u001b[0m\n",
            "Loading pipeline components...: 100% 4/4 [00:01<00:00,  2.64it/s]\n",
            "\u001b[32m[INFO] Loaded Stable Diffusion!\u001b[0m\n",
            "\u001b[32m[INFO] Using 16bit Automatic Mixed Precision (AMP)\u001b[0m\n",
            "\u001b[32m[INFO] GPU available: True (cuda), used: True\u001b[0m\n",
            "\u001b[32m[INFO] TPU available: False, using: 0 TPU cores\u001b[0m\n",
            "\u001b[32m[INFO] IPU available: False, using: 0 IPUs\u001b[0m\n",
            "\u001b[32m[INFO] HPU available: False, using: 0 HPUs\u001b[0m\n",
            "\u001b[32m[INFO] LOCAL_RANK: 0 - CUDA_VISIBLE_DEVICES: [0]\u001b[0m\n",
            "\u001b[32m[INFO] \n",
            "  | Name       | Type                           | Params\n",
            "--------------------------------------------------------------\n",
            "0 | geometry   | ImplicitVolume                 | 12.6 M\n",
            "1 | material   | NoMaterial                     | 0     \n",
            "2 | background | NeuralEnvironmentMapBackground | 464   \n",
            "3 | renderer   | NeRFVolumeRenderer             | 0     \n",
            "--------------------------------------------------------------\n",
            "12.6 M    Trainable params\n",
            "0         Non-trainable params\n",
            "12.6 M    Total params\n",
            "50.419    Total estimated model params size (MB)\u001b[0m\n",
            "\u001b[32m[INFO] Validation results will be saved to outputs/latentnerf/a_detailed_green_fern_in_a_wooden_pot@20231127-221414/save\u001b[0m\n",
            "\u001b[32m[INFO] Using prompt [a detailed green fern in a wooden pot] and negative prompt []\u001b[0m\n",
            "\u001b[32m[INFO] Using view-dependent prompts [side]:[a detailed green fern in a wooden pot, side view] [front]:[a detailed green fern in a wooden pot, front view] [back]:[a detailed green fern in a wooden pot, back view] [overhead]:[a detailed green fern in a wooden pot, overhead view]\u001b[0m\n",
            "2023-11-27 22:14:26.878741: E tensorflow/compiler/xla/stream_executor/cuda/cuda_dnn.cc:9342] Unable to register cuDNN factory: Attempting to register factory for plugin cuDNN when one has already been registered\n",
            "2023-11-27 22:14:26.878793: E tensorflow/compiler/xla/stream_executor/cuda/cuda_fft.cc:609] Unable to register cuFFT factory: Attempting to register factory for plugin cuFFT when one has already been registered\n",
            "2023-11-27 22:14:26.878817: E tensorflow/compiler/xla/stream_executor/cuda/cuda_blas.cc:1518] Unable to register cuBLAS factory: Attempting to register factory for plugin cuBLAS when one has already been registered\n",
            "2023-11-27 22:14:27.904459: W tensorflow/compiler/tf2tensorrt/utils/py_utils.cc:38] TF-TRT Warning: Could not find TensorRT\n",
            "/usr/local/lib/python3.10/dist-packages/controlnet_aux/segment_anything/modeling/tiny_vit_sam.py:654: UserWarning: Overwriting tiny_vit_5m_224 in registry with controlnet_aux.segment_anything.modeling.tiny_vit_sam.tiny_vit_5m_224. This is because the name being registered conflicts with an existing name. Please check if this is not expected.\n",
            "  return register_model(fn_wrapper)\n",
            "/usr/local/lib/python3.10/dist-packages/controlnet_aux/segment_anything/modeling/tiny_vit_sam.py:654: UserWarning: Overwriting tiny_vit_11m_224 in registry with controlnet_aux.segment_anything.modeling.tiny_vit_sam.tiny_vit_11m_224. This is because the name being registered conflicts with an existing name. Please check if this is not expected.\n",
            "  return register_model(fn_wrapper)\n",
            "/usr/local/lib/python3.10/dist-packages/controlnet_aux/segment_anything/modeling/tiny_vit_sam.py:654: UserWarning: Overwriting tiny_vit_21m_224 in registry with controlnet_aux.segment_anything.modeling.tiny_vit_sam.tiny_vit_21m_224. This is because the name being registered conflicts with an existing name. Please check if this is not expected.\n",
            "  return register_model(fn_wrapper)\n",
            "/usr/local/lib/python3.10/dist-packages/controlnet_aux/segment_anything/modeling/tiny_vit_sam.py:654: UserWarning: Overwriting tiny_vit_21m_384 in registry with controlnet_aux.segment_anything.modeling.tiny_vit_sam.tiny_vit_21m_384. This is because the name being registered conflicts with an existing name. Please check if this is not expected.\n",
            "  return register_model(fn_wrapper)\n",
            "/usr/local/lib/python3.10/dist-packages/controlnet_aux/segment_anything/modeling/tiny_vit_sam.py:654: UserWarning: Overwriting tiny_vit_21m_512 in registry with controlnet_aux.segment_anything.modeling.tiny_vit_sam.tiny_vit_21m_512. This is because the name being registered conflicts with an existing name. Please check if this is not expected.\n",
            "  return register_model(fn_wrapper)\n",
            "/usr/local/lib/python3.10/dist-packages/pytorch_lightning/trainer/connectors/data_connector.py:441: The 'train_dataloader' does not have many workers which may be a bottleneck. Consider increasing the value of the `num_workers` argument` to `num_workers=7` in the `DataLoader` to improve performance.\n",
            "/usr/local/lib/python3.10/dist-packages/pytorch_lightning/trainer/connectors/data_connector.py:441: The 'val_dataloader' does not have many workers which may be a bottleneck. Consider increasing the value of the `num_workers` argument` to `num_workers=7` in the `DataLoader` to improve performance.\n",
            "Epoch 0: |          | 0/? [00:00<?, ?it/s] /usr/local/lib/python3.10/dist-packages/pytorch_lightning/trainer/connectors/logger_connector/result.py:212: You called `self.log('train/min_step', ...)` in your `training_step` but the value needs to be floating to be reduced. Converting it to torch.float32. You can silence this warning by converting the value to floating point yourself. If you don't intend to reduce the value (for instance when logging the global step or epoch) then you can use `self.logger.log_metrics({'train/min_step': ...})` instead.\n",
            "/usr/local/lib/python3.10/dist-packages/pytorch_lightning/trainer/connectors/logger_connector/result.py:212: You called `self.log('train/max_step', ...)` in your `training_step` but the value needs to be floating to be reduced. Converting it to torch.float32. You can silence this warning by converting the value to floating point yourself. If you don't intend to reduce the value (for instance when logging the global step or epoch) then you can use `self.logger.log_metrics({'train/max_step': ...})` instead.\n",
            "Epoch 0: |          | 200/? [00:33<00:00,  5.96it/s]\n",
            "Validation: |          | 0/? [00:00<?, ?it/s]\u001b[A\n",
            "Validation:   0% 0/1 [00:00<?, ?it/s]        \u001b[A\n",
            "Validation DataLoader 0:   0% 0/1 [00:00<?, ?it/s]\u001b[A\n",
            "Validation DataLoader 0: 100% 1/1 [00:00<00:00,  2.16it/s]\u001b[A\n",
            "Epoch 0: |          | 400/? [01:07<00:00,  5.88it/s]\n",
            "Validation: |          | 0/? [00:00<?, ?it/s]\u001b[A\n",
            "Validation:   0% 0/1 [00:00<?, ?it/s]        \u001b[A\n",
            "Validation DataLoader 0:   0% 0/1 [00:00<?, ?it/s]\u001b[A\n",
            "Validation DataLoader 0: 100% 1/1 [00:00<00:00,  1.64it/s]\u001b[A\n",
            "Epoch 0: |          | 600/? [01:42<00:00,  5.87it/s]\n",
            "Validation: |          | 0/? [00:00<?, ?it/s]\u001b[A\n",
            "Validation:   0% 0/1 [00:00<?, ?it/s]        \u001b[A\n",
            "Validation DataLoader 0:   0% 0/1 [00:00<?, ?it/s]\u001b[A\n",
            "Validation DataLoader 0: 100% 1/1 [00:00<00:00,  1.78it/s]\u001b[A\n",
            "Epoch 0: |          | 800/? [02:15<00:00,  5.90it/s]\n",
            "Validation: |          | 0/? [00:00<?, ?it/s]\u001b[A\n",
            "Validation:   0% 0/1 [00:00<?, ?it/s]        \u001b[A\n",
            "Validation DataLoader 0:   0% 0/1 [00:00<?, ?it/s]\u001b[A\n",
            "Validation DataLoader 0: 100% 1/1 [00:00<00:00,  1.85it/s]\u001b[A\n",
            "Epoch 0: |          | 1000/? [02:49<00:00,  5.91it/s]\n",
            "Validation: |          | 0/? [00:00<?, ?it/s]\u001b[A\n",
            "Validation:   0% 0/1 [00:00<?, ?it/s]        \u001b[A\n",
            "Validation DataLoader 0:   0% 0/1 [00:00<?, ?it/s]\u001b[A\n",
            "Validation DataLoader 0: 100% 1/1 [00:00<00:00,  1.99it/s]\u001b[A\n",
            "Epoch 0: |          | 1200/? [03:22<00:00,  5.93it/s]\n",
            "Validation: |          | 0/? [00:00<?, ?it/s]\u001b[A\n",
            "Validation:   0% 0/1 [00:00<?, ?it/s]        \u001b[A\n",
            "Validation DataLoader 0:   0% 0/1 [00:00<?, ?it/s]\u001b[A\n",
            "Validation DataLoader 0: 100% 1/1 [00:00<00:00,  2.06it/s]\u001b[A\n",
            "Epoch 0: |          | 1400/? [03:55<00:00,  5.94it/s]\n",
            "Validation: |          | 0/? [00:00<?, ?it/s]\u001b[A\n",
            "Validation:   0% 0/1 [00:00<?, ?it/s]        \u001b[A\n",
            "Validation DataLoader 0:   0% 0/1 [00:00<?, ?it/s]\u001b[A\n",
            "Validation DataLoader 0: 100% 1/1 [00:00<00:00,  2.13it/s]\u001b[A\n",
            "Epoch 0: |          | 1600/? [04:28<00:00,  5.95it/s]\n",
            "Validation: |          | 0/? [00:00<?, ?it/s]\u001b[A\n",
            "Validation:   0% 0/1 [00:00<?, ?it/s]        \u001b[A\n",
            "Validation DataLoader 0:   0% 0/1 [00:00<?, ?it/s]\u001b[A\n",
            "Validation DataLoader 0: 100% 1/1 [00:00<00:00,  2.16it/s]\u001b[A\n",
            "Epoch 0: |          | 1800/? [05:02<00:00,  5.95it/s]\n",
            "Validation: |          | 0/? [00:00<?, ?it/s]\u001b[A\n",
            "Validation:   0% 0/1 [00:00<?, ?it/s]        \u001b[A\n",
            "Validation DataLoader 0:   0% 0/1 [00:00<?, ?it/s]\u001b[A\n",
            "Validation DataLoader 0: 100% 1/1 [00:00<00:00,  2.22it/s]\u001b[A\n",
            "Epoch 0: |          | 2000/? [05:35<00:00,  5.96it/s]\n",
            "Validation: |          | 0/? [00:00<?, ?it/s]\u001b[A\n",
            "Validation:   0% 0/1 [00:00<?, ?it/s]        \u001b[A\n",
            "Validation DataLoader 0:   0% 0/1 [00:00<?, ?it/s]\u001b[A\n",
            "Validation DataLoader 0: 100% 1/1 [00:00<00:00,  2.23it/s]\u001b[A\n",
            "Epoch 0: |          | 2200/? [06:08<00:00,  5.96it/s]\n",
            "Validation: |          | 0/? [00:00<?, ?it/s]\u001b[A\n",
            "Validation:   0% 0/1 [00:00<?, ?it/s]        \u001b[A\n",
            "Validation DataLoader 0:   0% 0/1 [00:00<?, ?it/s]\u001b[A\n",
            "Validation DataLoader 0: 100% 1/1 [00:00<00:00,  2.28it/s]\u001b[A\n",
            "Epoch 0: |          | 2400/? [06:41<00:00,  5.97it/s]\n",
            "Validation: |          | 0/? [00:00<?, ?it/s]\u001b[A\n",
            "Validation:   0% 0/1 [00:00<?, ?it/s]        \u001b[A\n",
            "Validation DataLoader 0:   0% 0/1 [00:00<?, ?it/s]\u001b[A\n",
            "Validation DataLoader 0: 100% 1/1 [00:00<00:00,  2.32it/s]\u001b[A\n",
            "Epoch 0: |          | 2600/? [07:14<00:00,  5.98it/s]\n",
            "Validation: |          | 0/? [00:00<?, ?it/s]\u001b[A\n",
            "Validation:   0% 0/1 [00:00<?, ?it/s]        \u001b[A\n",
            "Validation DataLoader 0:   0% 0/1 [00:00<?, ?it/s]\u001b[A\n",
            "Validation DataLoader 0: 100% 1/1 [00:00<00:00,  2.40it/s]\u001b[A\n",
            "Epoch 0: |          | 2800/? [07:47<00:00,  5.99it/s]\n",
            "Validation: |          | 0/? [00:00<?, ?it/s]\u001b[A\n",
            "Validation:   0% 0/1 [00:00<?, ?it/s]        \u001b[A\n",
            "Validation DataLoader 0:   0% 0/1 [00:00<?, ?it/s]\u001b[A\n",
            "Validation DataLoader 0: 100% 1/1 [00:00<00:00,  2.42it/s]\u001b[A\n",
            "Epoch 0: |          | 3000/? [08:19<00:00,  6.00it/s]\n",
            "Validation: |          | 0/? [00:00<?, ?it/s]\u001b[A\n",
            "Validation:   0% 0/1 [00:00<?, ?it/s]        \u001b[A\n",
            "Validation DataLoader 0:   0% 0/1 [00:00<?, ?it/s]\u001b[A\n",
            "Validation DataLoader 0: 100% 1/1 [00:00<00:00,  2.45it/s]\u001b[A\n",
            "Epoch 0: |          | 3200/? [08:52<00:00,  6.01it/s]\n",
            "Validation: |          | 0/? [00:00<?, ?it/s]\u001b[A\n",
            "Validation:   0% 0/1 [00:00<?, ?it/s]        \u001b[A\n",
            "Validation DataLoader 0:   0% 0/1 [00:00<?, ?it/s]\u001b[A\n",
            "Validation DataLoader 0: 100% 1/1 [00:00<00:00,  2.48it/s]\u001b[A\n",
            "Epoch 0: |          | 3400/? [09:24<00:00,  6.02it/s]\n",
            "Validation: |          | 0/? [00:00<?, ?it/s]\u001b[A\n",
            "Validation:   0% 0/1 [00:00<?, ?it/s]        \u001b[A\n",
            "Validation DataLoader 0:   0% 0/1 [00:00<?, ?it/s]\u001b[A\n",
            "Validation DataLoader 0: 100% 1/1 [00:00<00:00,  2.52it/s]\u001b[A\n",
            "Epoch 0: |          | 3600/? [09:57<00:00,  6.03it/s]\n",
            "Validation: |          | 0/? [00:00<?, ?it/s]\u001b[A\n",
            "Validation:   0% 0/1 [00:00<?, ?it/s]        \u001b[A\n",
            "Validation DataLoader 0:   0% 0/1 [00:00<?, ?it/s]\u001b[A\n",
            "Validation DataLoader 0: 100% 1/1 [00:00<00:00,  2.53it/s]\u001b[A\n",
            "Epoch 0: |          | 3800/? [10:29<00:00,  6.03it/s]\n",
            "Validation: |          | 0/? [00:00<?, ?it/s]\u001b[A\n",
            "Validation:   0% 0/1 [00:00<?, ?it/s]        \u001b[A\n",
            "Validation DataLoader 0:   0% 0/1 [00:00<?, ?it/s]\u001b[A\n",
            "Validation DataLoader 0: 100% 1/1 [00:00<00:00,  2.55it/s]\u001b[A\n",
            "Epoch 0: |          | 4000/? [11:01<00:00,  6.04it/s]\n",
            "Validation: |          | 0/? [00:00<?, ?it/s]\u001b[A\n",
            "Validation:   0% 0/1 [00:00<?, ?it/s]        \u001b[A\n",
            "Validation DataLoader 0:   0% 0/1 [00:00<?, ?it/s]\u001b[A\n",
            "Validation DataLoader 0: 100% 1/1 [00:00<00:00,  2.58it/s]\u001b[A\n",
            "Epoch 0: |          | 4200/? [11:33<00:00,  6.05it/s]\n",
            "Validation: |          | 0/? [00:00<?, ?it/s]\u001b[A\n",
            "Validation:   0% 0/1 [00:00<?, ?it/s]        \u001b[A\n",
            "Validation DataLoader 0:   0% 0/1 [00:00<?, ?it/s]\u001b[A\n",
            "Validation DataLoader 0: 100% 1/1 [00:00<00:00,  2.59it/s]\u001b[A\n",
            "Epoch 0: |          | 4400/? [12:06<00:00,  6.06it/s]\n",
            "Validation: |          | 0/? [00:00<?, ?it/s]\u001b[A\n",
            "Validation:   0% 0/1 [00:00<?, ?it/s]        \u001b[A\n",
            "Validation DataLoader 0:   0% 0/1 [00:00<?, ?it/s]\u001b[A\n",
            "Validation DataLoader 0: 100% 1/1 [00:00<00:00,  2.64it/s]\u001b[A\n",
            "Epoch 0: |          | 4600/? [12:38<00:00,  6.07it/s]\n",
            "Validation: |          | 0/? [00:00<?, ?it/s]\u001b[A\n",
            "Validation:   0% 0/1 [00:00<?, ?it/s]        \u001b[A\n",
            "Validation DataLoader 0:   0% 0/1 [00:00<?, ?it/s]\u001b[A\n",
            "Validation DataLoader 0: 100% 1/1 [00:00<00:00,  2.60it/s]\u001b[A\n",
            "Epoch 0: |          | 4800/? [13:10<00:00,  6.07it/s]\n",
            "Validation: |          | 0/? [00:00<?, ?it/s]\u001b[A\n",
            "Validation:   0% 0/1 [00:00<?, ?it/s]        \u001b[A\n",
            "Validation DataLoader 0:   0% 0/1 [00:00<?, ?it/s]\u001b[A\n",
            "Validation DataLoader 0: 100% 1/1 [00:00<00:00,  2.63it/s]\u001b[A\n",
            "Epoch 0: |          | 5000/? [13:43<00:00,  6.08it/s]\n",
            "Validation: |          | 0/? [00:00<?, ?it/s]\u001b[A\n",
            "Validation:   0% 0/1 [00:00<?, ?it/s]        \u001b[A\n",
            "Validation DataLoader 0:   0% 0/1 [00:00<?, ?it/s]\u001b[A\n",
            "Validation DataLoader 0: 100% 1/1 [00:00<00:00,  2.65it/s]\u001b[A\n",
            "Epoch 0: |          | 5200/? [14:15<00:00,  6.08it/s]\n",
            "Validation: |          | 0/? [00:00<?, ?it/s]\u001b[A\n",
            "Validation:   0% 0/1 [00:00<?, ?it/s]        \u001b[A\n",
            "Validation DataLoader 0:   0% 0/1 [00:00<?, ?it/s]\u001b[A\n",
            "Validation DataLoader 0: 100% 1/1 [00:00<00:00,  2.68it/s]\u001b[A\n",
            "Epoch 0: |          | 5400/? [14:47<00:00,  6.09it/s]\n",
            "Validation: |          | 0/? [00:00<?, ?it/s]\u001b[A\n",
            "Validation:   0% 0/1 [00:00<?, ?it/s]        \u001b[A\n",
            "Validation DataLoader 0:   0% 0/1 [00:00<?, ?it/s]\u001b[A\n",
            "Validation DataLoader 0: 100% 1/1 [00:00<00:00,  2.68it/s]\u001b[A\n",
            "Epoch 0: |          | 5600/? [15:19<00:00,  6.09it/s]\n",
            "Validation: |          | 0/? [00:00<?, ?it/s]\u001b[A\n",
            "Validation:   0% 0/1 [00:00<?, ?it/s]        \u001b[A\n",
            "Validation DataLoader 0:   0% 0/1 [00:00<?, ?it/s]\u001b[A\n",
            "Validation DataLoader 0: 100% 1/1 [00:00<00:00,  2.70it/s]\u001b[A\n",
            "Epoch 0: |          | 5800/? [15:51<00:00,  6.10it/s]\n",
            "Validation: |          | 0/? [00:00<?, ?it/s]\u001b[A\n",
            "Validation:   0% 0/1 [00:00<?, ?it/s]        \u001b[A\n",
            "Validation DataLoader 0:   0% 0/1 [00:00<?, ?it/s]\u001b[A\n",
            "Validation DataLoader 0: 100% 1/1 [00:00<00:00,  2.72it/s]\u001b[A\n",
            "Epoch 0: |          | 6000/? [16:23<00:00,  6.10it/s]\n",
            "Validation: |          | 0/? [00:00<?, ?it/s]\u001b[A\n",
            "Validation:   0% 0/1 [00:00<?, ?it/s]        \u001b[A\n",
            "Validation DataLoader 0:   0% 0/1 [00:00<?, ?it/s]\u001b[A\n",
            "Validation DataLoader 0: 100% 1/1 [00:00<00:00,  2.74it/s]\u001b[A\n",
            "Epoch 0: |          | 6200/? [16:55<00:00,  6.11it/s]\n",
            "Validation: |          | 0/? [00:00<?, ?it/s]\u001b[A\n",
            "Validation:   0% 0/1 [00:00<?, ?it/s]        \u001b[A\n",
            "Validation DataLoader 0:   0% 0/1 [00:00<?, ?it/s]\u001b[A\n",
            "Validation DataLoader 0: 100% 1/1 [00:00<00:00,  2.76it/s]\u001b[A\n",
            "Epoch 0: |          | 6400/? [17:26<00:00,  6.11it/s]\n",
            "Validation: |          | 0/? [00:00<?, ?it/s]\u001b[A\n",
            "Validation:   0% 0/1 [00:00<?, ?it/s]        \u001b[A\n",
            "Validation DataLoader 0:   0% 0/1 [00:00<?, ?it/s]\u001b[A\n",
            "Validation DataLoader 0: 100% 1/1 [00:00<00:00,  2.74it/s]\u001b[A\n",
            "Epoch 0: |          | 6600/? [17:58<00:00,  6.12it/s]\n",
            "Validation: |          | 0/? [00:00<?, ?it/s]\u001b[A\n",
            "Validation:   0% 0/1 [00:00<?, ?it/s]        \u001b[A\n",
            "Validation DataLoader 0:   0% 0/1 [00:00<?, ?it/s]\u001b[A\n",
            "Validation DataLoader 0: 100% 1/1 [00:00<00:00,  2.75it/s]\u001b[A\n",
            "Epoch 0: |          | 6800/? [18:30<00:00,  6.12it/s]\n",
            "Validation: |          | 0/? [00:00<?, ?it/s]\u001b[A\n",
            "Validation:   0% 0/1 [00:00<?, ?it/s]        \u001b[A\n",
            "Validation DataLoader 0:   0% 0/1 [00:00<?, ?it/s]\u001b[A\n",
            "Validation DataLoader 0: 100% 1/1 [00:00<00:00,  2.79it/s]\u001b[A\n",
            "Epoch 0: |          | 7000/? [19:02<00:00,  6.13it/s]\n",
            "Validation: |          | 0/? [00:00<?, ?it/s]\u001b[A\n",
            "Validation:   0% 0/1 [00:00<?, ?it/s]        \u001b[A\n",
            "Validation DataLoader 0:   0% 0/1 [00:00<?, ?it/s]\u001b[A\n",
            "Validation DataLoader 0: 100% 1/1 [00:00<00:00,  2.80it/s]\u001b[A\n",
            "Epoch 0: |          | 7200/? [19:34<00:00,  6.13it/s]\n",
            "Validation: |          | 0/? [00:00<?, ?it/s]\u001b[A\n",
            "Validation:   0% 0/1 [00:00<?, ?it/s]        \u001b[A\n",
            "Validation DataLoader 0:   0% 0/1 [00:00<?, ?it/s]\u001b[A\n",
            "Validation DataLoader 0: 100% 1/1 [00:00<00:00,  2.81it/s]\u001b[A\n",
            "Epoch 0: |          | 7400/? [20:06<00:00,  6.13it/s]\n",
            "Validation: |          | 0/? [00:00<?, ?it/s]\u001b[A\n",
            "Validation:   0% 0/1 [00:00<?, ?it/s]        \u001b[A\n",
            "Validation DataLoader 0:   0% 0/1 [00:00<?, ?it/s]\u001b[A\n",
            "Validation DataLoader 0: 100% 1/1 [00:00<00:00,  2.84it/s]\u001b[A\n",
            "Epoch 0: |          | 7600/? [20:38<00:00,  6.14it/s]\n",
            "Validation: |          | 0/? [00:00<?, ?it/s]\u001b[A\n",
            "Validation:   0% 0/1 [00:00<?, ?it/s]        \u001b[A\n",
            "Validation DataLoader 0:   0% 0/1 [00:00<?, ?it/s]\u001b[A\n",
            "Validation DataLoader 0: 100% 1/1 [00:00<00:00,  2.84it/s]\u001b[A\n",
            "Epoch 0: |          | 7800/? [21:10<00:00,  6.14it/s]\n",
            "Validation: |          | 0/? [00:00<?, ?it/s]\u001b[A\n",
            "Validation:   0% 0/1 [00:00<?, ?it/s]        \u001b[A\n",
            "Validation DataLoader 0:   0% 0/1 [00:00<?, ?it/s]\u001b[A\n",
            "Validation DataLoader 0: 100% 1/1 [00:00<00:00,  2.83it/s]\u001b[A\n",
            "Epoch 0: |          | 8000/? [21:42<00:00,  6.14it/s]\n",
            "Validation: |          | 0/? [00:00<?, ?it/s]\u001b[A\n",
            "Validation:   0% 0/1 [00:00<?, ?it/s]        \u001b[A\n",
            "Validation DataLoader 0:   0% 0/1 [00:00<?, ?it/s]\u001b[A\n",
            "Validation DataLoader 0: 100% 1/1 [00:00<00:00,  2.81it/s]\u001b[A\n",
            "Epoch 0: |          | 8200/? [22:14<00:00,  6.14it/s]\n",
            "Validation: |          | 0/? [00:00<?, ?it/s]\u001b[A\n",
            "Validation:   0% 0/1 [00:00<?, ?it/s]        \u001b[A\n",
            "Validation DataLoader 0:   0% 0/1 [00:00<?, ?it/s]\u001b[A\n",
            "Validation DataLoader 0: 100% 1/1 [00:00<00:00,  2.85it/s]\u001b[A\n",
            "Epoch 0: |          | 8400/? [22:46<00:00,  6.15it/s]\n",
            "Validation: |          | 0/? [00:00<?, ?it/s]\u001b[A\n",
            "Validation:   0% 0/1 [00:00<?, ?it/s]        \u001b[A\n",
            "Validation DataLoader 0:   0% 0/1 [00:00<?, ?it/s]\u001b[A\n",
            "Validation DataLoader 0: 100% 1/1 [00:00<00:00,  2.86it/s]\u001b[A\n",
            "Epoch 0: |          | 8600/? [23:18<00:00,  6.15it/s]\n",
            "Validation: |          | 0/? [00:00<?, ?it/s]\u001b[A\n",
            "Validation:   0% 0/1 [00:00<?, ?it/s]        \u001b[A\n",
            "Validation DataLoader 0:   0% 0/1 [00:00<?, ?it/s]\u001b[A\n",
            "Validation DataLoader 0: 100% 1/1 [00:00<00:00,  2.85it/s]\u001b[A\n",
            "Epoch 0: |          | 8800/? [23:50<00:00,  6.15it/s]\n",
            "Validation: |          | 0/? [00:00<?, ?it/s]\u001b[A\n",
            "Validation:   0% 0/1 [00:00<?, ?it/s]        \u001b[A\n",
            "Validation DataLoader 0:   0% 0/1 [00:00<?, ?it/s]\u001b[A\n",
            "Validation DataLoader 0: 100% 1/1 [00:00<00:00,  2.86it/s]\u001b[A\n",
            "Epoch 0: |          | 9000/? [24:22<00:00,  6.16it/s]\n",
            "Validation: |          | 0/? [00:00<?, ?it/s]\u001b[A\n",
            "Validation:   0% 0/1 [00:00<?, ?it/s]        \u001b[A\n",
            "Validation DataLoader 0:   0% 0/1 [00:00<?, ?it/s]\u001b[A\n",
            "Validation DataLoader 0: 100% 1/1 [00:00<00:00,  2.86it/s]\u001b[A\n",
            "Epoch 0: |          | 9200/? [24:53<00:00,  6.16it/s]\n",
            "Validation: |          | 0/? [00:00<?, ?it/s]\u001b[A\n",
            "Validation:   0% 0/1 [00:00<?, ?it/s]        \u001b[A\n",
            "Validation DataLoader 0:   0% 0/1 [00:00<?, ?it/s]\u001b[A\n",
            "Validation DataLoader 0: 100% 1/1 [00:00<00:00,  2.88it/s]\u001b[A\n",
            "Epoch 0: |          | 9400/? [25:25<00:00,  6.16it/s]\n",
            "Validation: |          | 0/? [00:00<?, ?it/s]\u001b[A\n",
            "Validation:   0% 0/1 [00:00<?, ?it/s]        \u001b[A\n",
            "Validation DataLoader 0:   0% 0/1 [00:00<?, ?it/s]\u001b[A\n",
            "Validation DataLoader 0: 100% 1/1 [00:00<00:00,  2.87it/s]\u001b[A\n",
            "Epoch 0: |          | 9600/? [25:57<00:00,  6.16it/s]\n",
            "Validation: |          | 0/? [00:00<?, ?it/s]\u001b[A\n",
            "Validation:   0% 0/1 [00:00<?, ?it/s]        \u001b[A\n",
            "Validation DataLoader 0:   0% 0/1 [00:00<?, ?it/s]\u001b[A\n",
            "Validation DataLoader 0: 100% 1/1 [00:00<00:00,  2.87it/s]\u001b[A\n",
            "Epoch 0: |          | 9800/? [26:29<00:00,  6.17it/s]\n",
            "Validation: |          | 0/? [00:00<?, ?it/s]\u001b[A\n",
            "Validation:   0% 0/1 [00:00<?, ?it/s]        \u001b[A\n",
            "Validation DataLoader 0:   0% 0/1 [00:00<?, ?it/s]\u001b[A\n",
            "Validation DataLoader 0: 100% 1/1 [00:00<00:00,  2.89it/s]\u001b[A\n",
            "Epoch 0: |          | 10000/? [27:01<00:00,  6.17it/s]\n",
            "Validation: |          | 0/? [00:00<?, ?it/s]\u001b[A\n",
            "Validation:   0% 0/1 [00:00<?, ?it/s]        \u001b[A\n",
            "Validation DataLoader 0:   0% 0/1 [00:00<?, ?it/s]\u001b[A\n",
            "Validation DataLoader 0: 100% 1/1 [00:00<00:00,  2.91it/s]\u001b[A\n",
            "Epoch 0: |          | 10000/? [27:01<00:00,  6.17it/s]\u001b[32m[INFO] `Trainer.fit` stopped: `max_steps=10000` reached.\u001b[0m\n",
            "Epoch 0: |          | 10000/? [27:01<00:00,  6.17it/s]\n",
            "\u001b[32m[INFO] LOCAL_RANK: 0 - CUDA_VISIBLE_DEVICES: [0]\u001b[0m\n",
            "/usr/local/lib/python3.10/dist-packages/pytorch_lightning/trainer/connectors/data_connector.py:441: The 'test_dataloader' does not have many workers which may be a bottleneck. Consider increasing the value of the `num_workers` argument` to `num_workers=7` in the `DataLoader` to improve performance.\n",
            "Testing DataLoader 0: 100% 120/120 [00:43<00:00,  2.73it/s]\n",
            "\u001b[32m[INFO] Test results saved to outputs/latentnerf/a_detailed_green_fern_in_a_wooden_pot@20231127-221414/save\u001b[0m\n"
          ]
        }
      ],
      "source": [
        "# Train in Stable Diffusion latent space\n",
        "!python launch.py --config configs/latentnerf.yaml --train --gpu 0 system.prompt_processor.prompt=\"$prompt\""
      ]
    },
    {
      "cell_type": "code",
      "execution_count": null,
      "metadata": {
        "colab": {
          "base_uri": "https://localhost:8080/"
        },
        "id": "djwc6hQrds62",
        "outputId": "62f37da2-99d9-47d1-80df-914ea5221dad"
      },
      "outputs": [
        {
          "name": "stdout",
          "output_type": "stream",
          "text": [
            "2023-11-27 22:52:30.157737: E tensorflow/compiler/xla/stream_executor/cuda/cuda_dnn.cc:9342] Unable to register cuDNN factory: Attempting to register factory for plugin cuDNN when one has already been registered\n",
            "2023-11-27 22:52:30.157792: E tensorflow/compiler/xla/stream_executor/cuda/cuda_fft.cc:609] Unable to register cuFFT factory: Attempting to register factory for plugin cuFFT when one has already been registered\n",
            "2023-11-27 22:52:30.157819: E tensorflow/compiler/xla/stream_executor/cuda/cuda_blas.cc:1518] Unable to register cuBLAS factory: Attempting to register factory for plugin cuBLAS when one has already been registered\n",
            "2023-11-27 22:52:31.191976: W tensorflow/compiler/tf2tensorrt/utils/py_utils.cc:38] TF-TRT Warning: Could not find TensorRT\n",
            "/usr/local/lib/python3.10/dist-packages/controlnet_aux/segment_anything/modeling/tiny_vit_sam.py:654: UserWarning: Overwriting tiny_vit_5m_224 in registry with controlnet_aux.segment_anything.modeling.tiny_vit_sam.tiny_vit_5m_224. This is because the name being registered conflicts with an existing name. Please check if this is not expected.\n",
            "  return register_model(fn_wrapper)\n",
            "/usr/local/lib/python3.10/dist-packages/controlnet_aux/segment_anything/modeling/tiny_vit_sam.py:654: UserWarning: Overwriting tiny_vit_11m_224 in registry with controlnet_aux.segment_anything.modeling.tiny_vit_sam.tiny_vit_11m_224. This is because the name being registered conflicts with an existing name. Please check if this is not expected.\n",
            "  return register_model(fn_wrapper)\n",
            "/usr/local/lib/python3.10/dist-packages/controlnet_aux/segment_anything/modeling/tiny_vit_sam.py:654: UserWarning: Overwriting tiny_vit_21m_224 in registry with controlnet_aux.segment_anything.modeling.tiny_vit_sam.tiny_vit_21m_224. This is because the name being registered conflicts with an existing name. Please check if this is not expected.\n",
            "  return register_model(fn_wrapper)\n",
            "/usr/local/lib/python3.10/dist-packages/controlnet_aux/segment_anything/modeling/tiny_vit_sam.py:654: UserWarning: Overwriting tiny_vit_21m_384 in registry with controlnet_aux.segment_anything.modeling.tiny_vit_sam.tiny_vit_21m_384. This is because the name being registered conflicts with an existing name. Please check if this is not expected.\n",
            "  return register_model(fn_wrapper)\n",
            "/usr/local/lib/python3.10/dist-packages/controlnet_aux/segment_anything/modeling/tiny_vit_sam.py:654: UserWarning: Overwriting tiny_vit_21m_512 in registry with controlnet_aux.segment_anything.modeling.tiny_vit_sam.tiny_vit_21m_512. This is because the name being registered conflicts with an existing name. Please check if this is not expected.\n",
            "  return register_model(fn_wrapper)\n",
            "Seed set to 0\n",
            "\u001b[32m[INFO] Loading Stable Diffusion ...\u001b[0m\n",
            "Loading pipeline components...: 100% 4/4 [00:01<00:00,  3.14it/s]\n",
            "\u001b[32m[INFO] Loaded Stable Diffusion!\u001b[0m\n",
            "\u001b[32m[INFO] Using 16bit Automatic Mixed Precision (AMP)\u001b[0m\n",
            "\u001b[32m[INFO] GPU available: True (cuda), used: True\u001b[0m\n",
            "\u001b[32m[INFO] TPU available: False, using: 0 TPU cores\u001b[0m\n",
            "\u001b[32m[INFO] IPU available: False, using: 0 IPUs\u001b[0m\n",
            "\u001b[32m[INFO] HPU available: False, using: 0 HPUs\u001b[0m\n",
            "\u001b[32m[INFO] LOCAL_RANK: 0 - CUDA_VISIBLE_DEVICES: [0]\u001b[0m\n",
            "\u001b[32m[INFO] \n",
            "  | Name       | Type                                 | Params\n",
            "--------------------------------------------------------------------\n",
            "0 | geometry   | ImplicitVolume                       | 12.6 M\n",
            "1 | material   | StableDiffusionLatentAdapterMaterial | 12    \n",
            "2 | background | NeuralEnvironmentMapBackground       | 448   \n",
            "3 | renderer   | NeRFVolumeRenderer                   | 0     \n",
            "--------------------------------------------------------------------\n",
            "12.6 M    Trainable params\n",
            "0         Non-trainable params\n",
            "12.6 M    Total params\n",
            "50.419    Total estimated model params size (MB)\u001b[0m\n",
            "\u001b[32m[INFO] Validation results will be saved to outputs/latentnerf-refine/a_detailed_green_fern_in_a_wooden_pot@20231127-225232/save\u001b[0m\n",
            "\u001b[32m[INFO] Using prompt [a detailed green fern in a wooden pot] and negative prompt []\u001b[0m\n",
            "\u001b[32m[INFO] Using view-dependent prompts [side]:[a detailed green fern in a wooden pot, side view] [front]:[a detailed green fern in a wooden pot, front view] [back]:[a detailed green fern in a wooden pot, back view] [overhead]:[a detailed green fern in a wooden pot, overhead view]\u001b[0m\n",
            "Sanity Checking: |          | 0/? [00:00<?, ?it/s]/usr/local/lib/python3.10/dist-packages/pytorch_lightning/trainer/connectors/data_connector.py:441: The 'val_dataloader' does not have many workers which may be a bottleneck. Consider increasing the value of the `num_workers` argument` to `num_workers=7` in the `DataLoader` to improve performance.\n",
            "/usr/local/lib/python3.10/dist-packages/pytorch_lightning/trainer/connectors/data_connector.py:441: The 'train_dataloader' does not have many workers which may be a bottleneck. Consider increasing the value of the `num_workers` argument` to `num_workers=7` in the `DataLoader` to improve performance.\n",
            "Epoch 0: |          | 0/? [00:00<?, ?it/s] /usr/local/lib/python3.10/dist-packages/pytorch_lightning/trainer/connectors/logger_connector/result.py:212: You called `self.log('train/min_step', ...)` in your `training_step` but the value needs to be floating to be reduced. Converting it to torch.float32. You can silence this warning by converting the value to floating point yourself. If you don't intend to reduce the value (for instance when logging the global step or epoch) then you can use `self.logger.log_metrics({'train/min_step': ...})` instead.\n",
            "/usr/local/lib/python3.10/dist-packages/pytorch_lightning/trainer/connectors/logger_connector/result.py:212: You called `self.log('train/max_step', ...)` in your `training_step` but the value needs to be floating to be reduced. Converting it to torch.float32. You can silence this warning by converting the value to floating point yourself. If you don't intend to reduce the value (for instance when logging the global step or epoch) then you can use `self.logger.log_metrics({'train/max_step': ...})` instead.\n",
            "Epoch 0: |          | 200/? [01:26<00:00,  2.32it/s]\n",
            "Validation: |          | 0/? [00:00<?, ?it/s]\u001b[A\n",
            "Validation:   0% 0/1 [00:00<?, ?it/s]        \u001b[A\n",
            "Validation DataLoader 0:   0% 0/1 [00:00<?, ?it/s]\u001b[A\n",
            "Validation DataLoader 0: 100% 1/1 [00:00<00:00, 15.31it/s]\u001b[A\n",
            "Epoch 0: |          | 400/? [02:55<00:00,  2.28it/s]\n",
            "Validation: |          | 0/? [00:00<?, ?it/s]\u001b[A\n",
            "Validation:   0% 0/1 [00:00<?, ?it/s]        \u001b[A\n",
            "Validation DataLoader 0:   0% 0/1 [00:00<?, ?it/s]\u001b[A\n",
            "Validation DataLoader 0: 100% 1/1 [00:00<00:00, 15.54it/s]\u001b[A\n",
            "Epoch 0: |          | 600/? [04:23<00:00,  2.27it/s]\n",
            "Validation: |          | 0/? [00:00<?, ?it/s]\u001b[A\n",
            "Validation:   0% 0/1 [00:00<?, ?it/s]        \u001b[A\n",
            "Validation DataLoader 0:   0% 0/1 [00:00<?, ?it/s]\u001b[A\n",
            "Validation DataLoader 0: 100% 1/1 [00:00<00:00, 16.63it/s]\u001b[A\n",
            "Epoch 0: |          | 800/? [05:52<00:00,  2.27it/s]\n",
            "Validation: |          | 0/? [00:00<?, ?it/s]\u001b[A\n",
            "Validation:   0% 0/1 [00:00<?, ?it/s]        \u001b[A\n",
            "Validation DataLoader 0:   0% 0/1 [00:00<?, ?it/s]\u001b[A\n",
            "Validation DataLoader 0: 100% 1/1 [00:00<00:00, 16.25it/s]\u001b[A\n",
            "Epoch 0: |          | 1000/? [07:21<00:00,  2.26it/s]\n",
            "Validation: |          | 0/? [00:00<?, ?it/s]\u001b[A\n",
            "Validation:   0% 0/1 [00:00<?, ?it/s]        \u001b[A\n",
            "Validation DataLoader 0:   0% 0/1 [00:00<?, ?it/s]\u001b[A\n",
            "Validation DataLoader 0: 100% 1/1 [00:00<00:00, 16.77it/s]\u001b[A\n",
            "Epoch 0: |          | 1200/? [08:50<00:00,  2.26it/s]\n",
            "Validation: |          | 0/? [00:00<?, ?it/s]\u001b[A\n",
            "Validation:   0% 0/1 [00:00<?, ?it/s]        \u001b[A\n",
            "Validation DataLoader 0:   0% 0/1 [00:00<?, ?it/s]\u001b[A\n",
            "Validation DataLoader 0: 100% 1/1 [00:00<00:00, 16.84it/s]\u001b[A\n",
            "Epoch 0: |          | 1400/? [10:19<00:00,  2.26it/s]\n",
            "Validation: |          | 0/? [00:00<?, ?it/s]\u001b[A\n",
            "Validation:   0% 0/1 [00:00<?, ?it/s]        \u001b[A\n",
            "Validation DataLoader 0:   0% 0/1 [00:00<?, ?it/s]\u001b[A\n",
            "Validation DataLoader 0: 100% 1/1 [00:00<00:00, 17.03it/s]\u001b[A\n",
            "Epoch 0: |          | 1600/? [11:48<00:00,  2.26it/s]\n",
            "Validation: |          | 0/? [00:00<?, ?it/s]\u001b[A\n",
            "Validation:   0% 0/1 [00:00<?, ?it/s]        \u001b[A\n",
            "Validation DataLoader 0:   0% 0/1 [00:00<?, ?it/s]\u001b[A\n",
            "Validation DataLoader 0: 100% 1/1 [00:00<00:00, 16.98it/s]\u001b[A\n",
            "Epoch 0: |          | 1800/? [13:17<00:00,  2.26it/s]\n",
            "Validation: |          | 0/? [00:00<?, ?it/s]\u001b[A\n",
            "Validation:   0% 0/1 [00:00<?, ?it/s]        \u001b[A\n",
            "Validation DataLoader 0:   0% 0/1 [00:00<?, ?it/s]\u001b[A\n",
            "Validation DataLoader 0: 100% 1/1 [00:00<00:00, 16.48it/s]\u001b[A\n",
            "Epoch 0: |          | 2000/? [14:45<00:00,  2.26it/s]\n",
            "Validation: |          | 0/? [00:00<?, ?it/s]\u001b[A\n",
            "Validation:   0% 0/1 [00:00<?, ?it/s]        \u001b[A\n",
            "Validation DataLoader 0:   0% 0/1 [00:00<?, ?it/s]\u001b[A\n",
            "Validation DataLoader 0: 100% 1/1 [00:00<00:00, 16.66it/s]\u001b[A\n",
            "Epoch 0: |          | 2200/? [16:14<00:00,  2.26it/s]\n",
            "Validation: |          | 0/? [00:00<?, ?it/s]\u001b[A\n",
            "Validation:   0% 0/1 [00:00<?, ?it/s]        \u001b[A\n",
            "Validation DataLoader 0:   0% 0/1 [00:00<?, ?it/s]\u001b[A\n",
            "Validation DataLoader 0: 100% 1/1 [00:00<00:00, 16.39it/s]\u001b[A\n",
            "Epoch 0: |          | 2400/? [17:43<00:00,  2.26it/s]\n",
            "Validation: |          | 0/? [00:00<?, ?it/s]\u001b[A\n",
            "Validation:   0% 0/1 [00:00<?, ?it/s]        \u001b[A\n",
            "Validation DataLoader 0:   0% 0/1 [00:00<?, ?it/s]\u001b[A\n",
            "Validation DataLoader 0: 100% 1/1 [00:00<00:00, 16.46it/s]\u001b[A\n",
            "Epoch 0: |          | 2600/? [19:12<00:00,  2.26it/s]\n",
            "Validation: |          | 0/? [00:00<?, ?it/s]\u001b[A\n",
            "Validation:   0% 0/1 [00:00<?, ?it/s]        \u001b[A\n",
            "Validation DataLoader 0:   0% 0/1 [00:00<?, ?it/s]\u001b[A\n",
            "Validation DataLoader 0: 100% 1/1 [00:00<00:00, 16.91it/s]\u001b[A\n",
            "Epoch 0: |          | 2800/? [20:41<00:00,  2.26it/s]\n",
            "Validation: |          | 0/? [00:00<?, ?it/s]\u001b[A\n",
            "Validation:   0% 0/1 [00:00<?, ?it/s]        \u001b[A\n",
            "Validation DataLoader 0:   0% 0/1 [00:00<?, ?it/s]\u001b[A\n",
            "Validation DataLoader 0: 100% 1/1 [00:00<00:00, 16.02it/s]\u001b[A\n",
            "Epoch 0: |          | 3000/? [22:10<00:00,  2.26it/s]\n",
            "Validation: |          | 0/? [00:00<?, ?it/s]\u001b[A\n",
            "Validation:   0% 0/1 [00:00<?, ?it/s]        \u001b[A\n",
            "Validation DataLoader 0:   0% 0/1 [00:00<?, ?it/s]\u001b[A\n",
            "Validation DataLoader 0: 100% 1/1 [00:00<00:00, 16.37it/s]\u001b[A\n",
            "Epoch 0: |          | 3200/? [23:39<00:00,  2.25it/s]\n",
            "Validation: |          | 0/? [00:00<?, ?it/s]\u001b[A\n",
            "Validation:   0% 0/1 [00:00<?, ?it/s]        \u001b[A\n",
            "Validation DataLoader 0:   0% 0/1 [00:00<?, ?it/s]\u001b[A\n",
            "Validation DataLoader 0: 100% 1/1 [00:00<00:00, 16.39it/s]\u001b[A\n",
            "Epoch 0: |          | 3280/? [24:14<00:00,  2.25it/s]\u001b[33m[WARNING] Empty rays_indices!\u001b[0m\n",
            "Epoch 0: |          | 3400/? [25:08<00:00,  2.25it/s]\n",
            "Validation: |          | 0/? [00:00<?, ?it/s]\u001b[A\n",
            "Validation:   0% 0/1 [00:00<?, ?it/s]        \u001b[A\n",
            "Validation DataLoader 0:   0% 0/1 [00:00<?, ?it/s]\u001b[A\n",
            "Validation DataLoader 0: 100% 1/1 [00:00<00:00, 16.56it/s]\u001b[A\n",
            "Epoch 0: |          | 3600/? [26:37<00:00,  2.25it/s]\n",
            "Validation: |          | 0/? [00:00<?, ?it/s]\u001b[A\n",
            "Validation:   0% 0/1 [00:00<?, ?it/s]        \u001b[A\n",
            "Validation DataLoader 0:   0% 0/1 [00:00<?, ?it/s]\u001b[A\n",
            "Validation DataLoader 0: 100% 1/1 [00:00<00:00, 16.47it/s]\u001b[A\n",
            "Epoch 0: |          | 3800/? [28:06<00:00,  2.25it/s]\n",
            "Validation: |          | 0/? [00:00<?, ?it/s]\u001b[A\n",
            "Validation:   0% 0/1 [00:00<?, ?it/s]        \u001b[A\n",
            "Validation DataLoader 0:   0% 0/1 [00:00<?, ?it/s]\u001b[A\n",
            "Validation DataLoader 0: 100% 1/1 [00:00<00:00, 16.48it/s]\u001b[A\n",
            "Epoch 0: |          | 4000/? [29:35<00:00,  2.25it/s]\n",
            "Validation: |          | 0/? [00:00<?, ?it/s]\u001b[A\n",
            "Validation:   0% 0/1 [00:00<?, ?it/s]        \u001b[A\n",
            "Validation DataLoader 0:   0% 0/1 [00:00<?, ?it/s]\u001b[A\n",
            "Validation DataLoader 0: 100% 1/1 [00:00<00:00, 16.53it/s]\u001b[A\n",
            "Epoch 0: |          | 4200/? [31:04<00:00,  2.25it/s]\n",
            "Validation: |          | 0/? [00:00<?, ?it/s]\u001b[A\n",
            "Validation:   0% 0/1 [00:00<?, ?it/s]        \u001b[A\n",
            "Validation DataLoader 0:   0% 0/1 [00:00<?, ?it/s]\u001b[A\n",
            "Validation DataLoader 0: 100% 1/1 [00:00<00:00, 16.48it/s]\u001b[A\n",
            "Epoch 0: |          | 4400/? [32:32<00:00,  2.25it/s]\n",
            "Validation: |          | 0/? [00:00<?, ?it/s]\u001b[A\n",
            "Validation:   0% 0/1 [00:00<?, ?it/s]        \u001b[A\n",
            "Validation DataLoader 0:   0% 0/1 [00:00<?, ?it/s]\u001b[A\n",
            "Validation DataLoader 0: 100% 1/1 [00:00<00:00, 16.96it/s]\u001b[A\n",
            "Epoch 0: |          | 4600/? [34:01<00:00,  2.25it/s]\n",
            "Validation: |          | 0/? [00:00<?, ?it/s]\u001b[A\n",
            "Validation:   0% 0/1 [00:00<?, ?it/s]        \u001b[A\n",
            "Validation DataLoader 0:   0% 0/1 [00:00<?, ?it/s]\u001b[A\n",
            "Validation DataLoader 0: 100% 1/1 [00:00<00:00, 16.94it/s]\u001b[A\n",
            "Epoch 0: |          | 4800/? [35:30<00:00,  2.25it/s]\n",
            "Validation: |          | 0/? [00:00<?, ?it/s]\u001b[A\n",
            "Validation:   0% 0/1 [00:00<?, ?it/s]        \u001b[A\n",
            "Validation DataLoader 0:   0% 0/1 [00:00<?, ?it/s]\u001b[A\n",
            "Validation DataLoader 0: 100% 1/1 [00:00<00:00, 16.90it/s]\u001b[A\n",
            "Epoch 0: |          | 5000/? [36:59<00:00,  2.25it/s]\n",
            "Validation: |          | 0/? [00:00<?, ?it/s]\u001b[A\n",
            "Validation:   0% 0/1 [00:00<?, ?it/s]        \u001b[A\n",
            "Validation DataLoader 0:   0% 0/1 [00:00<?, ?it/s]\u001b[A\n",
            "Validation DataLoader 0: 100% 1/1 [00:00<00:00, 16.80it/s]\u001b[A\n",
            "Epoch 0: |          | 5200/? [38:28<00:00,  2.25it/s]\n",
            "Validation: |          | 0/? [00:00<?, ?it/s]\u001b[A\n",
            "Validation:   0% 0/1 [00:00<?, ?it/s]        \u001b[A\n",
            "Validation DataLoader 0:   0% 0/1 [00:00<?, ?it/s]\u001b[A\n",
            "Validation DataLoader 0: 100% 1/1 [00:00<00:00, 16.44it/s]\u001b[A\n",
            "Epoch 0: |          | 5400/? [39:57<00:00,  2.25it/s]\n",
            "Validation: |          | 0/? [00:00<?, ?it/s]\u001b[A\n",
            "Validation:   0% 0/1 [00:00<?, ?it/s]        \u001b[A\n",
            "Validation DataLoader 0:   0% 0/1 [00:00<?, ?it/s]\u001b[A\n",
            "Validation DataLoader 0: 100% 1/1 [00:00<00:00, 17.08it/s]\u001b[A\n",
            "Epoch 0: |          | 5600/? [41:26<00:00,  2.25it/s]\n",
            "Validation: |          | 0/? [00:00<?, ?it/s]\u001b[A\n",
            "Validation:   0% 0/1 [00:00<?, ?it/s]        \u001b[A\n",
            "Validation DataLoader 0:   0% 0/1 [00:00<?, ?it/s]\u001b[A\n",
            "Validation DataLoader 0: 100% 1/1 [00:00<00:00, 16.94it/s]\u001b[A\n",
            "Epoch 0: |          | 5800/? [42:55<00:00,  2.25it/s]\n",
            "Validation: |          | 0/? [00:00<?, ?it/s]\u001b[A\n",
            "Validation:   0% 0/1 [00:00<?, ?it/s]        \u001b[A\n",
            "Validation DataLoader 0:   0% 0/1 [00:00<?, ?it/s]\u001b[A\n",
            "Validation DataLoader 0: 100% 1/1 [00:00<00:00, 16.58it/s]\u001b[A\n",
            "Epoch 0: |          | 6000/? [44:24<00:00,  2.25it/s]\n",
            "Validation: |          | 0/? [00:00<?, ?it/s]\u001b[A\n",
            "Validation:   0% 0/1 [00:00<?, ?it/s]        \u001b[A\n",
            "Validation DataLoader 0:   0% 0/1 [00:00<?, ?it/s]\u001b[A\n",
            "Validation DataLoader 0: 100% 1/1 [00:00<00:00, 16.78it/s]\u001b[A\n",
            "Epoch 0: |          | 6200/? [45:52<00:00,  2.25it/s]\n",
            "Validation: |          | 0/? [00:00<?, ?it/s]\u001b[A\n",
            "Validation:   0% 0/1 [00:00<?, ?it/s]        \u001b[A\n",
            "Validation DataLoader 0:   0% 0/1 [00:00<?, ?it/s]\u001b[A\n",
            "Validation DataLoader 0: 100% 1/1 [00:00<00:00, 16.50it/s]\u001b[A\n",
            "Epoch 0: |          | 6400/? [47:21<00:00,  2.25it/s]\n",
            "Validation: |          | 0/? [00:00<?, ?it/s]\u001b[A\n",
            "Validation:   0% 0/1 [00:00<?, ?it/s]        \u001b[A\n",
            "Validation DataLoader 0:   0% 0/1 [00:00<?, ?it/s]\u001b[A\n",
            "Validation DataLoader 0: 100% 1/1 [00:00<00:00, 16.76it/s]\u001b[A\n",
            "Epoch 0: |          | 6600/? [48:50<00:00,  2.25it/s]\n",
            "Validation: |          | 0/? [00:00<?, ?it/s]\u001b[A\n",
            "Validation:   0% 0/1 [00:00<?, ?it/s]        \u001b[A\n",
            "Validation DataLoader 0:   0% 0/1 [00:00<?, ?it/s]\u001b[A\n",
            "Validation DataLoader 0: 100% 1/1 [00:00<00:00, 16.97it/s]\u001b[A\n",
            "Epoch 0: |          | 6800/? [50:19<00:00,  2.25it/s]\n",
            "Validation: |          | 0/? [00:00<?, ?it/s]\u001b[A\n",
            "Validation:   0% 0/1 [00:00<?, ?it/s]        \u001b[A\n",
            "Validation DataLoader 0:   0% 0/1 [00:00<?, ?it/s]\u001b[A\n",
            "Validation DataLoader 0: 100% 1/1 [00:00<00:00, 16.79it/s]\u001b[A\n",
            "Epoch 0: |          | 7000/? [51:48<00:00,  2.25it/s]\n",
            "Validation: |          | 0/? [00:00<?, ?it/s]\u001b[A\n",
            "Validation:   0% 0/1 [00:00<?, ?it/s]        \u001b[A\n",
            "Validation DataLoader 0:   0% 0/1 [00:00<?, ?it/s]\u001b[A\n",
            "Validation DataLoader 0: 100% 1/1 [00:00<00:00, 16.94it/s]\u001b[A\n",
            "Epoch 0: |          | 7200/? [53:17<00:00,  2.25it/s]\n",
            "Validation: |          | 0/? [00:00<?, ?it/s]\u001b[A\n",
            "Validation:   0% 0/1 [00:00<?, ?it/s]        \u001b[A\n",
            "Validation DataLoader 0:   0% 0/1 [00:00<?, ?it/s]\u001b[A\n",
            "Validation DataLoader 0: 100% 1/1 [00:00<00:00, 16.89it/s]\u001b[A\n",
            "Epoch 0: |          | 7400/? [54:46<00:00,  2.25it/s]\n",
            "Validation: |          | 0/? [00:00<?, ?it/s]\u001b[A\n",
            "Validation:   0% 0/1 [00:00<?, ?it/s]        \u001b[A\n",
            "Validation DataLoader 0:   0% 0/1 [00:00<?, ?it/s]\u001b[A\n",
            "Validation DataLoader 0: 100% 1/1 [00:00<00:00, 17.09it/s]\u001b[A\n",
            "Epoch 0: |          | 7600/? [56:14<00:00,  2.25it/s]\n",
            "Validation: |          | 0/? [00:00<?, ?it/s]\u001b[A\n",
            "Validation:   0% 0/1 [00:00<?, ?it/s]        \u001b[A\n",
            "Validation DataLoader 0:   0% 0/1 [00:00<?, ?it/s]\u001b[A\n",
            "Validation DataLoader 0: 100% 1/1 [00:00<00:00, 16.74it/s]\u001b[A\n",
            "Epoch 0: |          | 7800/? [57:43<00:00,  2.25it/s]\n",
            "Validation: |          | 0/? [00:00<?, ?it/s]\u001b[A\n",
            "Validation:   0% 0/1 [00:00<?, ?it/s]        \u001b[A\n",
            "Validation DataLoader 0:   0% 0/1 [00:00<?, ?it/s]\u001b[A\n",
            "Validation DataLoader 0: 100% 1/1 [00:00<00:00, 16.39it/s]\u001b[A\n",
            "Epoch 0: |          | 8000/? [59:12<00:00,  2.25it/s]\n",
            "Validation: |          | 0/? [00:00<?, ?it/s]\u001b[A\n",
            "Validation:   0% 0/1 [00:00<?, ?it/s]        \u001b[A\n",
            "Validation DataLoader 0:   0% 0/1 [00:00<?, ?it/s]\u001b[A\n",
            "Validation DataLoader 0: 100% 1/1 [00:00<00:00, 16.46it/s]\u001b[A\n",
            "Epoch 0: |          | 8200/? [1:00:41<00:00,  2.25it/s]\n",
            "Validation: |          | 0/? [00:00<?, ?it/s]\u001b[A\n",
            "Validation:   0% 0/1 [00:00<?, ?it/s]        \u001b[A\n",
            "Validation DataLoader 0:   0% 0/1 [00:00<?, ?it/s]\u001b[A\n",
            "Validation DataLoader 0: 100% 1/1 [00:00<00:00, 16.53it/s]\u001b[A\n",
            "Epoch 0: |          | 8400/? [1:02:10<00:00,  2.25it/s]\n",
            "Validation: |          | 0/? [00:00<?, ?it/s]\u001b[A\n",
            "Validation:   0% 0/1 [00:00<?, ?it/s]        \u001b[A\n",
            "Validation DataLoader 0:   0% 0/1 [00:00<?, ?it/s]\u001b[A\n",
            "Validation DataLoader 0: 100% 1/1 [00:00<00:00, 17.00it/s]\u001b[A\n",
            "Epoch 0: |          | 8600/? [1:03:39<00:00,  2.25it/s]\n",
            "Validation: |          | 0/? [00:00<?, ?it/s]\u001b[A\n",
            "Validation:   0% 0/1 [00:00<?, ?it/s]        \u001b[A\n",
            "Validation DataLoader 0:   0% 0/1 [00:00<?, ?it/s]\u001b[A\n",
            "Validation DataLoader 0: 100% 1/1 [00:00<00:00, 17.09it/s]\u001b[A\n",
            "Epoch 0: |          | 8800/? [1:05:08<00:00,  2.25it/s]\n",
            "Validation: |          | 0/? [00:00<?, ?it/s]\u001b[A\n",
            "Validation:   0% 0/1 [00:00<?, ?it/s]        \u001b[A\n",
            "Validation DataLoader 0:   0% 0/1 [00:00<?, ?it/s]\u001b[A\n",
            "Validation DataLoader 0: 100% 1/1 [00:00<00:00, 17.00it/s]\u001b[A\n",
            "Epoch 0: |          | 9000/? [1:06:37<00:00,  2.25it/s]\n",
            "Validation: |          | 0/? [00:00<?, ?it/s]\u001b[A\n",
            "Validation:   0% 0/1 [00:00<?, ?it/s]        \u001b[A\n",
            "Validation DataLoader 0:   0% 0/1 [00:00<?, ?it/s]\u001b[A\n",
            "Validation DataLoader 0: 100% 1/1 [00:00<00:00, 16.96it/s]\u001b[A\n",
            "Epoch 0: |          | 9200/? [1:08:06<00:00,  2.25it/s]\n",
            "Validation: |          | 0/? [00:00<?, ?it/s]\u001b[A\n",
            "Validation:   0% 0/1 [00:00<?, ?it/s]        \u001b[A\n",
            "Validation DataLoader 0:   0% 0/1 [00:00<?, ?it/s]\u001b[A\n",
            "Validation DataLoader 0: 100% 1/1 [00:00<00:00, 17.30it/s]\u001b[A\n",
            "Epoch 0: |          | 9400/? [1:09:35<00:00,  2.25it/s]\n",
            "Validation: |          | 0/? [00:00<?, ?it/s]\u001b[A\n",
            "Validation:   0% 0/1 [00:00<?, ?it/s]        \u001b[A\n",
            "Validation DataLoader 0:   0% 0/1 [00:00<?, ?it/s]\u001b[A\n",
            "Validation DataLoader 0: 100% 1/1 [00:00<00:00, 17.38it/s]\u001b[A\n",
            "Epoch 0: |          | 9600/? [1:11:04<00:00,  2.25it/s]\n",
            "Validation: |          | 0/? [00:00<?, ?it/s]\u001b[A\n",
            "Validation:   0% 0/1 [00:00<?, ?it/s]        \u001b[A\n",
            "Validation DataLoader 0:   0% 0/1 [00:00<?, ?it/s]\u001b[A\n",
            "Validation DataLoader 0: 100% 1/1 [00:00<00:00, 16.66it/s]\u001b[A\n",
            "Epoch 0: |          | 9800/? [1:12:33<00:00,  2.25it/s]\n",
            "Validation: |          | 0/? [00:00<?, ?it/s]\u001b[A\n",
            "Validation:   0% 0/1 [00:00<?, ?it/s]        \u001b[A\n",
            "Validation DataLoader 0:   0% 0/1 [00:00<?, ?it/s]\u001b[A\n",
            "Validation DataLoader 0: 100% 1/1 [00:00<00:00, 17.10it/s]\u001b[A\n",
            "Epoch 0: |          | 10000/? [1:14:02<00:00,  2.25it/s]\n",
            "Validation: |          | 0/? [00:00<?, ?it/s]\u001b[A\n",
            "Validation:   0% 0/1 [00:00<?, ?it/s]        \u001b[A\n",
            "Validation DataLoader 0:   0% 0/1 [00:00<?, ?it/s]\u001b[A\n",
            "Validation DataLoader 0: 100% 1/1 [00:00<00:00, 17.45it/s]\u001b[A\n",
            "Epoch 0: |          | 10000/? [1:14:02<00:00,  2.25it/s]\u001b[32m[INFO] `Trainer.fit` stopped: `max_steps=10000` reached.\u001b[0m\n",
            "Epoch 0: |          | 10000/? [1:14:02<00:00,  2.25it/s]\n",
            "\u001b[32m[INFO] LOCAL_RANK: 0 - CUDA_VISIBLE_DEVICES: [0]\u001b[0m\n",
            "/usr/local/lib/python3.10/dist-packages/pytorch_lightning/trainer/connectors/data_connector.py:441: The 'test_dataloader' does not have many workers which may be a bottleneck. Consider increasing the value of the `num_workers` argument` to `num_workers=7` in the `DataLoader` to improve performance.\n",
            "Testing DataLoader 0: 100% 120/120 [00:08<00:00, 13.57it/s]\n",
            "\u001b[32m[INFO] Test results saved to outputs/latentnerf-refine/a_detailed_green_fern_in_a_wooden_pot@20231127-225232/save\u001b[0m\n"
          ]
        }
      ],
      "source": [
        "# Train in RGB space\n",
        "!python launch.py --config configs/latentnerf-refine.yaml --train --gpu 0 system.prompt_processor.prompt=\"$prompt\" system.weights=/content/threestudio/outputs/latentnerf/a_detailed_green_fern_in_a_wooden_pot@20231127-221414/ckpts/last.ckpt"
      ]
    },
    {
      "cell_type": "code",
      "execution_count": null,
      "metadata": {
        "colab": {
          "base_uri": "https://localhost:8080/"
        },
        "id": "adsyNq0jeDp6",
        "outputId": "49992a6a-234f-467c-da3f-660b1e7c247b"
      },
      "outputs": [
        {
          "name": "stdout",
          "output_type": "stream",
          "text": [
            "2023-11-28 00:07:01.520793: E tensorflow/compiler/xla/stream_executor/cuda/cuda_dnn.cc:9342] Unable to register cuDNN factory: Attempting to register factory for plugin cuDNN when one has already been registered\n",
            "2023-11-28 00:07:01.520847: E tensorflow/compiler/xla/stream_executor/cuda/cuda_fft.cc:609] Unable to register cuFFT factory: Attempting to register factory for plugin cuFFT when one has already been registered\n",
            "2023-11-28 00:07:01.520873: E tensorflow/compiler/xla/stream_executor/cuda/cuda_blas.cc:1518] Unable to register cuBLAS factory: Attempting to register factory for plugin cuBLAS when one has already been registered\n",
            "2023-11-28 00:07:02.562538: W tensorflow/compiler/tf2tensorrt/utils/py_utils.cc:38] TF-TRT Warning: Could not find TensorRT\n",
            "/usr/local/lib/python3.10/dist-packages/controlnet_aux/segment_anything/modeling/tiny_vit_sam.py:654: UserWarning: Overwriting tiny_vit_5m_224 in registry with controlnet_aux.segment_anything.modeling.tiny_vit_sam.tiny_vit_5m_224. This is because the name being registered conflicts with an existing name. Please check if this is not expected.\n",
            "  return register_model(fn_wrapper)\n",
            "/usr/local/lib/python3.10/dist-packages/controlnet_aux/segment_anything/modeling/tiny_vit_sam.py:654: UserWarning: Overwriting tiny_vit_11m_224 in registry with controlnet_aux.segment_anything.modeling.tiny_vit_sam.tiny_vit_11m_224. This is because the name being registered conflicts with an existing name. Please check if this is not expected.\n",
            "  return register_model(fn_wrapper)\n",
            "/usr/local/lib/python3.10/dist-packages/controlnet_aux/segment_anything/modeling/tiny_vit_sam.py:654: UserWarning: Overwriting tiny_vit_21m_224 in registry with controlnet_aux.segment_anything.modeling.tiny_vit_sam.tiny_vit_21m_224. This is because the name being registered conflicts with an existing name. Please check if this is not expected.\n",
            "  return register_model(fn_wrapper)\n",
            "/usr/local/lib/python3.10/dist-packages/controlnet_aux/segment_anything/modeling/tiny_vit_sam.py:654: UserWarning: Overwriting tiny_vit_21m_384 in registry with controlnet_aux.segment_anything.modeling.tiny_vit_sam.tiny_vit_21m_384. This is because the name being registered conflicts with an existing name. Please check if this is not expected.\n",
            "  return register_model(fn_wrapper)\n",
            "/usr/local/lib/python3.10/dist-packages/controlnet_aux/segment_anything/modeling/tiny_vit_sam.py:654: UserWarning: Overwriting tiny_vit_21m_512 in registry with controlnet_aux.segment_anything.modeling.tiny_vit_sam.tiny_vit_21m_512. This is because the name being registered conflicts with an existing name. Please check if this is not expected.\n",
            "  return register_model(fn_wrapper)\n",
            "Seed set to 0\n",
            "\u001b[32m[INFO] Loading Stable Diffusion ...\u001b[0m\n",
            "Loading pipeline components...: 100% 4/4 [00:01<00:00,  3.09it/s]\n",
            "\u001b[32m[INFO] Loaded Stable Diffusion!\u001b[0m\n",
            "\u001b[32m[INFO] Using 16bit Automatic Mixed Precision (AMP)\u001b[0m\n",
            "\u001b[32m[INFO] GPU available: True (cuda), used: True\u001b[0m\n",
            "\u001b[32m[INFO] TPU available: False, using: 0 TPU cores\u001b[0m\n",
            "\u001b[32m[INFO] IPU available: False, using: 0 IPUs\u001b[0m\n",
            "\u001b[32m[INFO] HPU available: False, using: 0 HPUs\u001b[0m\n",
            "\u001b[32m[INFO] Restoring states from the checkpoint path at /content/threestudio/outputs/latentnerf-refine/a_detailed_green_fern_in_a_wooden_pot@20231127-225232/ckpts/last.ckpt\u001b[0m\n",
            "\u001b[32m[INFO] LOCAL_RANK: 0 - CUDA_VISIBLE_DEVICES: [0]\u001b[0m\n",
            "\u001b[32m[INFO] Loaded model weights from the checkpoint at /content/threestudio/outputs/latentnerf-refine/a_detailed_green_fern_in_a_wooden_pot@20231127-225232/ckpts/last.ckpt\u001b[0m\n",
            "/usr/local/lib/python3.10/dist-packages/pytorch_lightning/trainer/connectors/data_connector.py:441: The 'predict_dataloader' does not have many workers which may be a bottleneck. Consider increasing the value of the `num_workers` argument` to `num_workers=7` in the `DataLoader` to improve performance.\n",
            "Predicting DataLoader 0:   0% 0/120 [00:00<?, ?it/s]/usr/local/lib/python3.10/dist-packages/pytorch_lightning/loops/prediction_loop.py:252: predict returned None if it was on purpose, ignore this warning...\n",
            "Predicting DataLoader 0: 100% 120/120 [00:00<00:00, 147.07it/s]\u001b[32m[INFO] Automatically determined isosurface threshold: 0.5528275370597839\u001b[0m\n",
            "\u001b[32m[INFO] Automatically determined isosurface threshold: 1.082105278968811\u001b[0m\n",
            "\u001b[32m[INFO] Using xatlas to perform UV unwrapping, may take a while ...\u001b[0m\n",
            "\u001b[32m[INFO] Exporting textures ...\u001b[0m\n",
            "\u001b[32m[INFO] Perform UV padding on texture maps to avoid seams, may take a while ...\u001b[0m\n",
            "\u001b[33m[WARNING] save_texture is True but no albedo texture found, using default white texture\u001b[0m\n",
            "Predicting DataLoader 0: 100% 120/120 [00:05<00:00, 20.75it/s] \n",
            "\u001b[32m[INFO] Export assets saved to outputs/latentnerf-refine/a_detailed_green_fern_in_a_wooden_pot@20231127-225232/save\u001b[0m\n"
          ]
        }
      ],
      "source": [
        "# Export\n",
        "!python launch.py --config /content/threestudio/outputs/latentnerf-refine/a_detailed_green_fern_in_a_wooden_pot@20231127-225232/configs/parsed.yaml --export --gpu 0 resume=/content/threestudio/outputs/latentnerf-refine/a_detailed_green_fern_in_a_wooden_pot@20231127-225232/ckpts/last.ckpt system.exporter_type=mesh-exporter system.geometry.isosurface_threshold=auto"
      ]
    },
    {
      "cell_type": "code",
      "execution_count": null,
      "metadata": {
        "id": "jD9aZowkbFKA"
      },
      "outputs": [],
      "source": [
        "!cp -r /content/threestudio/outputs/latentnerf/ /content/drive/MyDrive/threestudio/\n",
        "!cp -r /content/threestudio/outputs/latentnerf-refine/ /content/drive/MyDrive/threestudio/"
      ]
    },
    {
      "cell_type": "code",
      "execution_count": null,
      "metadata": {
        "id": "QgjMZd2zeRVp"
      },
      "outputs": [],
      "source": [
        "# train Sketch-Shape in Stable Diffusion latent space using existing .obj\n",
        "!python launch.py --config configs/sketchshape.yaml --train --gpu 0 system.guide_shape=/load/shapes/teddy.obj system.prompt_processor.prompt=\"$prompt\""
      ]
    },
    {
      "cell_type": "code",
      "execution_count": null,
      "metadata": {
        "id": "hG8V_uJ5ec5j"
      },
      "outputs": [],
      "source": [
        "# refine Sketch-Shape in RGB space\n",
        "!python launch.py --config configs/sketchshape-refine.yaml --train --gpu 0 system.guide_shape=/content/threestudio/load/shapes/human.obj system.prompt_processor.prompt=\"$prompt\" system.weights=path/to/latent/stage/trial/dir/ckpts/last.ckpt"
      ]
    },
    {
      "cell_type": "code",
      "execution_count": null,
      "metadata": {
        "id": "zzu1NRWEejUQ"
      },
      "outputs": [],
      "source": [
        "!cp -r /content/threestudio/outputs/sketchshape/ /content/drive/MyDrive/threestudio/sketchshape/\n",
        "!cp -r /content/threestudio/outputs/sketchshape-refine/ /content/drive/MyDrive/threestudio/sketchshape-refine/"
      ]
    }
  ],
  "metadata": {
    "accelerator": "GPU",
    "colab": {
      "collapsed_sections": [
        "2tO2pV8OldgR",
        "aZW8rQp6fOKI",
        "AnhYsF3cETTx",
        "R5oo-JDlbr3-"
      ],
      "machine_shape": "hm",
      "provenance": []
    },
    "kernelspec": {
      "display_name": "Python 3",
      "name": "python3"
    },
    "language_info": {
      "name": "python"
    }
  },
  "nbformat": 4,
  "nbformat_minor": 0
}