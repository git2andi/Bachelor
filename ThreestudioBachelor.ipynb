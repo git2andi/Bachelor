{
  "cells": [
    {
      "cell_type": "markdown",
      "metadata": {
        "id": "NabXluTTlvi9"
      },
      "source": [
        "# Initialize"
      ]
    },
    {
      "cell_type": "markdown",
      "metadata": {
        "id": "2tO2pV8OldgR"
      },
      "source": [
        "### Hugging Face"
      ]
    },
    {
      "cell_type": "code",
      "execution_count": null,
      "metadata": {
        "id": "_qoStFhjABCd"
      },
      "outputs": [],
      "source": [
        "#get token from https://huggingface.co/\n",
        "from huggingface_hub import interpreter_login\n",
        "\n",
        "interpreter_login()"
      ]
    },
    {
      "cell_type": "markdown",
      "metadata": {
        "id": "o4yW1mXSljd8"
      },
      "source": [
        "### Connect to Drive\n",
        "\n",
        "Required to save results in Cloud"
      ]
    },
    {
      "cell_type": "code",
      "execution_count": null,
      "metadata": {
        "colab": {
          "base_uri": "https://localhost:8080/"
        },
        "id": "FO09hW5zdb81",
        "outputId": "9455d9c2-5253-460f-d705-20b1fe777286"
      },
      "outputs": [
        {
          "output_type": "stream",
          "name": "stdout",
          "text": [
            "Mounted at /content/drive\n"
          ]
        }
      ],
      "source": [
        "from google.colab import drive\n",
        "drive.mount('/content/drive')"
      ]
    },
    {
      "cell_type": "markdown",
      "metadata": {
        "id": "S7vZFQkeq_Vk"
      },
      "source": [
        "### get dependencies and load repos\n",
        "\n",
        "Loads threestudio, Wonder3D, and Evaluate3D (including CLIP and trimesh) from https://github.com/threestudio-project/threestudio.git\n",
        "\n",
        "#### FOR THREESTUDIO:\n",
        "go to \\\\\n",
        "/content/threestudio/threestudio/models/exporters/mesh_exporter.py (line 30) \\\\\n",
        "/content/threestudio/threestudio/models/renderers/nvdiff_rasterizer.py (line 21) \\\\\n",
        "and change context_type: str = \"gl\" to context_type: str = \"cuda\"  \\\\\n",
        "\n",
        "Also, go to \\\\\n",
        "/content/threestudio/threestudio/utils/rasterize.py \\\\\n",
        "and add context_type: str = \"cuda\" between line 9 and 10 \\\\\n",
        "\n",
        "save all changes (Strg + S); can already be done after Threestudio Github was cloned and other dependencies are still loading\\\\\n",
        "\n",
        "Additionally, change config files in to increase iteration steps etc \\\\\n",
        "\n",
        "DreamFusion: /content/threestudio/configs/dreamfusion-if.yaml \\\\\n",
        "Magic3D: /content/threestudio/configs/magic3d-coarse-if.yaml and /content/threestudio/configs/magic3d-refine-sd.yaml \\\\\n",
        "Fantasia3D: /content/threestudio/configs/fantasia3d.yaml and /content/threestudio/configs/fantasia3d-texture.yaml \\\\\n",
        "Magic123: /content/threestudio/configs/magic123-coarse-sd.yaml and /content/threestudio/configs/magic123-refine-sd.yaml"
      ]
    },
    {
      "cell_type": "code",
      "execution_count": null,
      "metadata": {
        "id": "PvIacDrl9n7N"
      },
      "outputs": [],
      "source": [
        "import os\n",
        "!git clone https://github.com/threestudio-project/threestudio.git\n",
        "%cd threestudio\n",
        "\n",
        "!pip install ninja\n",
        "!pip install lightning==2.0.0 omegaconf==2.3.0 jaxtyping typeguard diffusers transformers accelerate opencv-python tensorboard matplotlib imageio imageio[ffmpeg] trimesh bitsandbytes sentencepiece safetensors huggingface_hub libigl xatlas networkx pysdf PyMCubes wandb torchmetrics controlnet_aux\n",
        "!pip install einops kornia taming-transformers-rom1504 git+https://github.com/openai/CLIP.git\n",
        "!pip install open3d\n",
        "!pip install mediapipe\n",
        "!pip install \"diffusers<0.20\"\n",
        "!pip install trimesh\n",
        "!pip install pygltflib\n",
        "\n",
        "!pip install git+https://github.com/ashawkey/envlight.git\n",
        "!pip install git+https://github.com/KAIR-BAIR/nerfacc.git@v0.5.2  # ~5min\n",
        "!pip install git+https://github.com/NVlabs/nvdiffrast.git\n",
        "!pip install git+https://github.com/NVlabs/tiny-cuda-nn/#subdirectory=bindings/torch  # ~20-30min"
      ]
    },
    {
      "cell_type": "markdown",
      "metadata": {
        "id": "J248DMNnmC-A"
      },
      "source": [
        "### Prompt"
      ]
    },
    {
      "cell_type": "code",
      "execution_count": null,
      "metadata": {
        "id": "pZUD5VcS88yz"
      },
      "outputs": [],
      "source": [
        "prompt = \"a symmetrical tennis ball\""
      ]
    },
    {
      "cell_type": "markdown",
      "metadata": {
        "id": "ljZji7eRpzYd"
      },
      "source": [
        "#All Models"
      ]
    },
    {
      "cell_type": "markdown",
      "metadata": {
        "id": "66FsUYtUY-iX"
      },
      "source": [
        "## Threestudio"
      ]
    },
    {
      "cell_type": "markdown",
      "metadata": {
        "id": "IHAos0PdbPsP"
      },
      "source": [
        "###Dreamfusion-if"
      ]
    },
    {
      "cell_type": "code",
      "execution_count": null,
      "metadata": {
        "id": "Uy61bM84K7Qi"
      },
      "outputs": [],
      "source": [
        "# Train\n",
        "!python launch.py --config configs/dreamfusion-if.yaml --train --gpu 0 system.prompt_processor.prompt=\"$prompt\""
      ]
    },
    {
      "cell_type": "code",
      "execution_count": null,
      "metadata": {
        "id": "eHEVInnG0HTn"
      },
      "outputs": [],
      "source": [
        "# Export Mesh (maybe change system.geometry_convert_override.isosurface_threshold=X; increase X if result is extruded, decrease if incomplete; auto = 25) <- does not always work as expected\n",
        "!python launch.py --config /content/threestudio/outputs/dreamfusion-if/a_symmetrical_tennis_ball@20231214-212703/configs/parsed.yaml --export --gpu 0 resume=/content/threestudio/outputs/dreamfusion-if/a_symmetrical_tennis_ball@20231214-212703/ckpts/last.ckpt system.exporter_type=mesh-exporter system.geometry.isosurface_threshold=auto"
      ]
    },
    {
      "cell_type": "code",
      "execution_count": null,
      "metadata": {
        "id": "j9hpZ-HV-oEP"
      },
      "outputs": [],
      "source": [
        "!cp -r /content/threestudio/outputs/dreamfusion-if/ /content/drive/MyDrive/threestudio/"
      ]
    },
    {
      "cell_type": "markdown",
      "metadata": {
        "id": "aDl5PokEbTOS"
      },
      "source": [
        "###Magic3D"
      ]
    },
    {
      "cell_type": "code",
      "execution_count": null,
      "metadata": {
        "id": "tmtgdM6fsjz9"
      },
      "outputs": [],
      "source": [
        "# Train Base\n",
        "!python launch.py --config configs/magic3d-coarse-if.yaml --train --gpu 0 system.prompt_processor.prompt=\"$prompt\""
      ]
    },
    {
      "cell_type": "code",
      "execution_count": null,
      "metadata": {
        "id": "Ok_vjxwvlnXL"
      },
      "outputs": [],
      "source": [
        "# Copy coarse result to Drive\n",
        "!cp -r /content/threestudio/outputs/magic3d-coarse-if/ /content/drive/MyDrive/threestudio/"
      ]
    },
    {
      "cell_type": "code",
      "execution_count": null,
      "metadata": {
        "id": "kZ7NeV7xjtPA"
      },
      "outputs": [],
      "source": [
        "# Train Refine\n",
        "!python launch.py --config configs/magic3d-refine-sd.yaml --train --gpu 0 system.prompt_processor.prompt=\"$prompt\" system.geometry_convert_from=/content/threestudio/outputs/magic3d-coarse-if/a_symmetrical_tennis_ball@20231214-221323/ckpts/last.ckpt"
      ]
    },
    {
      "cell_type": "code",
      "execution_count": null,
      "metadata": {
        "id": "MVhWjxtSuBDG"
      },
      "outputs": [],
      "source": [
        "# Export Mesh Refine\n",
        "!python launch.py --config /content/threestudio/outputs/magic3d-refine-sd/a_symmetrical_tennis_ball@20231214-224124/configs/parsed.yaml --export --gpu 0 resume=/content/threestudio/outputs/magic3d-refine-sd/a_symmetrical_tennis_ball@20231214-224124/ckpts/last.ckpt system.exporter_type=mesh-exporter system.geometry_convert_override.isosurface_threshold=auto"
      ]
    },
    {
      "cell_type": "code",
      "execution_count": null,
      "metadata": {
        "id": "srt6vfe0X6WQ"
      },
      "outputs": [],
      "source": [
        "# Copy refined result to drive\n",
        "!cp -r /content/threestudio/outputs/magic3d-refine-sd/ /content/drive/MyDrive/threestudio/"
      ]
    },
    {
      "cell_type": "markdown",
      "metadata": {
        "id": "_eeOBoecbtrJ"
      },
      "source": [
        "###Fantasia3D"
      ]
    },
    {
      "cell_type": "code",
      "execution_count": null,
      "metadata": {
        "id": "Dm5GgPUit_BV"
      },
      "outputs": [],
      "source": [
        "# Learn the model - geometry stage\n",
        "# Apply fitting Geometry via: system.geometry.shape_init=ellipsoid system.geometry.shape_init_params=\"[0.3,0.3,0.3]\" [depth, width, height]\n",
        "!python launch.py --config configs/fantasia3d.yaml --train --gpu 0 system.prompt_processor.prompt=\"$prompt\""
      ]
    },
    {
      "cell_type": "code",
      "execution_count": null,
      "metadata": {
        "id": "ZLpRjsUsQQOA"
      },
      "outputs": [],
      "source": [
        "# Load from existing mesh                                                                                                                                                                                                                                                                                                       #y z, z y, z x\n",
        "#!python launch.py --config configs/fantasia3d.yaml --train --gpu 0 system.prompt_processor.prompt=\"$prompt\" system.geometry.shape_init=mesh:load/shapes/human.obj system.geometry.shape_init_params=0.9 system.geometry.shape_init_mesh_up=+y system.geometry.shape_init_mesh_front=+z\n"
      ]
    },
    {
      "cell_type": "code",
      "execution_count": null,
      "metadata": {
        "id": "3Av6YopqOlfY"
      },
      "outputs": [],
      "source": [
        "!cp -r /content/threestudio/outputs/fantasia3d/ /content/drive/MyDrive/threestudio/"
      ]
    },
    {
      "cell_type": "code",
      "execution_count": null,
      "metadata": {
        "id": "XtT_vonS-dDX"
      },
      "outputs": [],
      "source": [
        "# Create Texture for Model - appearance stage\n",
        "!python launch.py --config configs/fantasia3d-texture.yaml --train --gpu 0 system.prompt_processor.prompt=\"$prompt\" system.geometry_convert_from=/content/threestudio/outputs/fantasia3d/a_symmetrical_tennis_ball@20231215-003649/ckpts/last.ckpt"
      ]
    },
    {
      "cell_type": "code",
      "execution_count": null,
      "metadata": {
        "id": "wk89l872sfQq"
      },
      "outputs": [],
      "source": [
        "# Export as mesh\n",
        "!python launch.py --config /content/threestudio/outputs/fantasia3d-texture/a_symmetrical_tennis_ball@20231215-005804/configs/parsed.yaml --export --gpu 0 resume=/content/threestudio/outputs/fantasia3d-texture/a_symmetrical_tennis_ball@20231215-005804/ckpts/last.ckpt system.exporter_type=mesh-exporter"
      ]
    },
    {
      "cell_type": "code",
      "execution_count": null,
      "metadata": {
        "id": "5Nse1V5UbFe-"
      },
      "outputs": [],
      "source": [
        "# Copy files to Drive\n",
        "!cp -r /content/threestudio/outputs/fantasia3d-texture/ /content/drive/MyDrive/threestudio/"
      ]
    },
    {
      "cell_type": "markdown",
      "metadata": {
        "id": "aZW8rQp6fOKI"
      },
      "source": [
        "###Magic123"
      ]
    },
    {
      "cell_type": "code",
      "execution_count": null,
      "metadata": {
        "id": "2EiX7Dw-fNfG"
      },
      "outputs": [],
      "source": [
        "# Train coarse\n",
        "!python launch.py --config configs/magic123-coarse-sd.yaml --train --gpu 0 data.image_path=/content/drive/MyDrive/Images/Ball.png system.prompt_processor.prompt=\"$prompt\""
      ]
    },
    {
      "cell_type": "code",
      "execution_count": null,
      "metadata": {
        "id": "n_EO7RNnzwx4"
      },
      "outputs": [],
      "source": [
        "!cp -r /content/threestudio/outputs/magic123-coarse-sd/ /content/drive/MyDrive/threestudio/"
      ]
    },
    {
      "cell_type": "code",
      "execution_count": null,
      "metadata": {
        "id": "PBp0Dnzxfg8B"
      },
      "outputs": [],
      "source": [
        "# Refine\n",
        "!python launch.py --config configs/magic123-refine-sd.yaml --train --gpu 0 data.image_path=/content/drive/MyDrive/Images/Ball.png system.prompt_processor.prompt=\"$prompt\" system.geometry_convert_from=/content/threestudio/outputs/magic123-coarse-sd/Ball.png-a_symmetrical_tennis_ball@20231215-015154/ckpts/last.ckpt"
      ]
    },
    {
      "cell_type": "code",
      "execution_count": null,
      "metadata": {
        "id": "xezhTvN3v6Me"
      },
      "outputs": [],
      "source": [
        "# Export Refine\n",
        "!python launch.py --config /content/threestudio/outputs/magic123-refine-sd/Ball.png-a_symmetrical_tennis_ball@20231215-023142/configs/parsed.yaml --export --gpu 0 resume=/content/threestudio/outputs/magic123-refine-sd/Ball.png-a_symmetrical_tennis_ball@20231215-023142/ckpts/last.ckpt system.exporter_type=mesh-exporter"
      ]
    },
    {
      "cell_type": "code",
      "execution_count": null,
      "metadata": {
        "id": "0wV07py1frLh"
      },
      "outputs": [],
      "source": [
        "!cp -r /content/threestudio/outputs/magic123-refine-sd/ /content/drive/MyDrive/threestudio/"
      ]
    },
    {
      "cell_type": "markdown",
      "metadata": {
        "id": "AnhYsF3cETTx"
      },
      "source": [
        "# Other Models (Threestudio)"
      ]
    },
    {
      "cell_type": "markdown",
      "metadata": {
        "id": "R5oo-JDlbr3-"
      },
      "source": [
        "##Latentnerf"
      ]
    },
    {
      "cell_type": "code",
      "execution_count": null,
      "metadata": {
        "id": "Sdw4IkXsuI7x"
      },
      "outputs": [],
      "source": [
        "# Train in Stable Diffusion latent space\n",
        "!python launch.py --config configs/latentnerf.yaml --train --gpu 0 system.prompt_processor.prompt=\"$prompt\""
      ]
    },
    {
      "cell_type": "code",
      "execution_count": null,
      "metadata": {
        "id": "djwc6hQrds62"
      },
      "outputs": [],
      "source": [
        "# Train in RGB space\n",
        "!python launch.py --config configs/latentnerf-refine.yaml --train --gpu 0 system.prompt_processor.prompt=\"$prompt\" system.weights=/content/threestudio/outputs/latentnerf/a_detailed_green_fern_in_a_wooden_pot@20231127-221414/ckpts/last.ckpt"
      ]
    },
    {
      "cell_type": "code",
      "execution_count": null,
      "metadata": {
        "id": "adsyNq0jeDp6"
      },
      "outputs": [],
      "source": [
        "# Export\n",
        "!python launch.py --config /content/threestudio/outputs/latentnerf-refine/a_detailed_green_fern_in_a_wooden_pot@20231127-225232/configs/parsed.yaml --export --gpu 0 resume=/content/threestudio/outputs/latentnerf-refine/a_detailed_green_fern_in_a_wooden_pot@20231127-225232/ckpts/last.ckpt system.exporter_type=mesh-exporter system.geometry.isosurface_threshold=auto"
      ]
    },
    {
      "cell_type": "code",
      "execution_count": null,
      "metadata": {
        "id": "jD9aZowkbFKA"
      },
      "outputs": [],
      "source": [
        "!cp -r /content/threestudio/outputs/latentnerf/ /content/drive/MyDrive/threestudio/\n",
        "!cp -r /content/threestudio/outputs/latentnerf-refine/ /content/drive/MyDrive/threestudio/"
      ]
    },
    {
      "cell_type": "code",
      "execution_count": null,
      "metadata": {
        "id": "QgjMZd2zeRVp"
      },
      "outputs": [],
      "source": [
        "# train Sketch-Shape in Stable Diffusion latent space using existing .obj\n",
        "!python launch.py --config configs/sketchshape.yaml --train --gpu 0 system.guide_shape=/load/shapes/teddy.obj system.prompt_processor.prompt=\"$prompt\""
      ]
    },
    {
      "cell_type": "code",
      "execution_count": null,
      "metadata": {
        "id": "hG8V_uJ5ec5j"
      },
      "outputs": [],
      "source": [
        "# refine Sketch-Shape in RGB space\n",
        "!python launch.py --config configs/sketchshape-refine.yaml --train --gpu 0 system.guide_shape=/content/threestudio/load/shapes/human.obj system.prompt_processor.prompt=\"$prompt\" system.weights=path/to/latent/stage/trial/dir/ckpts/last.ckpt"
      ]
    },
    {
      "cell_type": "code",
      "execution_count": null,
      "metadata": {
        "id": "zzu1NRWEejUQ"
      },
      "outputs": [],
      "source": [
        "!cp -r /content/threestudio/outputs/sketchshape/ /content/drive/MyDrive/threestudio/sketchshape/\n",
        "!cp -r /content/threestudio/outputs/sketchshape-refine/ /content/drive/MyDrive/threestudio/sketchshape-refine/"
      ]
    }
  ],
  "metadata": {
    "accelerator": "GPU",
    "colab": {
      "collapsed_sections": [
        "2tO2pV8OldgR",
        "aZW8rQp6fOKI",
        "AnhYsF3cETTx",
        "R5oo-JDlbr3-"
      ],
      "machine_shape": "hm",
      "provenance": []
    },
    "kernelspec": {
      "display_name": "Python 3",
      "name": "python3"
    },
    "language_info": {
      "name": "python"
    }
  },
  "nbformat": 4,
  "nbformat_minor": 0
}