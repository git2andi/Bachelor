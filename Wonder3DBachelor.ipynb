{
  "nbformat": 4,
  "nbformat_minor": 0,
  "metadata": {
    "colab": {
      "provenance": [],
      "machine_shape": "hm",
      "gpuType": "T4"
    },
    "kernelspec": {
      "name": "python3",
      "display_name": "Python 3"
    },
    "language_info": {
      "name": "python"
    },
    "accelerator": "GPU"
  },
  "cells": [
    {
      "cell_type": "code",
      "source": [
        "# Connect to drive\n",
        "from google.colab import drive\n",
        "drive.mount('/content/drive')"
      ],
      "metadata": {
        "id": "I9WstK3vlE2G"
      },
      "execution_count": null,
      "outputs": []
    },
    {
      "cell_type": "code",
      "source": [
        "# get original code from https://github.com/xxlong0/Wonder3D.git\n",
        "%cd /content\n",
        "!git clone https://github.com/xxlong0/Wonder3D.git\n",
        "%cd /content/Wonder3D\n",
        "\n",
        "\n",
        "# install dependencies (from https://github.com/camenduru/Wonder3D-colab.git and some minor personal adjustments)\n",
        "!apt -y install -qq aria2\n",
        "!aria2c --console-log-level=error -c -x 16 -s 16 -k 1M https://huggingface.co/camenduru/Wonder3D/resolve/main/random_states_0.pkl -d /content/Wonder3D/ckpts -o random_states_0.pkl\n",
        "!aria2c --console-log-level=error -c -x 16 -s 16 -k 1M https://huggingface.co/camenduru/Wonder3D/resolve/main/scaler.pt -d /content/Wonder3D/ckpts -o scaler.pt\n",
        "!aria2c --console-log-level=error -c -x 16 -s 16 -k 1M https://huggingface.co/camenduru/Wonder3D/resolve/main/scheduler.bin -d /content/Wonder3D/ckpts -o scheduler.bin\n",
        "!aria2c --console-log-level=error -c -x 16 -s 16 -k 1M https://huggingface.co/camenduru/Wonder3D/resolve/main/unet/diffusion_pytorch_model.bin -d /content/Wonder3D/ckpts/unet -o diffusion_pytorch_model.bin\n",
        "!aria2c --console-log-level=error -c -x 16 -s 16 -k 1M https://huggingface.co/camenduru/Wonder3D/raw/main/unet/config.json -d /content/Wonder3D/ckpts/unet -o config.json\n",
        "!aria2c --console-log-level=error -c -x 16 -s 16 -k 1M https://huggingface.co/camenduru/segment_anything/resolve/main/sam_vit_h_4b8939.pth -d /content/Wonder3D/sam_pt -o sam_vit_h_4b8939.pth\n",
        "\n",
        "!pip install -q fire diffusers==0.19.3 transformers bitsandbytes accelerate gradio rembg segment_anything\n",
        "!pip install -q einops omegaconf pytorch-lightning==1.9.5 torch_efficient_distloss nerfacc==0.3.3 PyMCubes trimesh\n",
        "!pip install -q https://download.pytorch.org/whl/cu118/xformers-0.0.22.post4%2Bcu118-cp310-cp310-manylinux2014_x86_64.whl\n",
        "#!pip3 install -U xformers --index-url https://download.pytorch.org/whl/cu121\n",
        "!pip install -q https://huggingface.co/camenduru/CoDeF/resolve/main/tinycudann-1.7-cp310-cp310-linux_x86_64.whl\n",
        "!git clone https://huggingface.co/camenduru/torch_extensions_0_3_3_colab /root/.cache/torch_extensions"
      ],
      "metadata": {
        "id": "EqKMqWLTlAVO"
      },
      "execution_count": null,
      "outputs": []
    },
    {
      "cell_type": "code",
      "source": [
        "!pip install -q https://download.pytorch.org/whl/cu118/xformers-0.0.22.post4%2Bcu118-cp310-cp310-manylinux2014_x86_64.whl"
      ],
      "metadata": {
        "id": "PmaZB8kYVmeq"
      },
      "execution_count": null,
      "outputs": []
    },
    {
      "cell_type": "code",
      "source": [
        "# Load initial Image from drive (remove Background of image)\n",
        "!cp /content/drive/MyDrive/Images/snowGlobe.png /content/Wonder3D/example_images"
      ],
      "metadata": {
        "id": "LWBoQHRXw5CX"
      },
      "execution_count": null,
      "outputs": []
    },
    {
      "cell_type": "code",
      "source": [
        "# Alternative: upload image directly\n",
        "from PIL import Image\n",
        "from google.colab import files\n",
        "\n",
        "uploaded = files.upload()"
      ],
      "metadata": {
        "id": "Txfo5dyAs6EE"
      },
      "execution_count": null,
      "outputs": []
    },
    {
      "cell_type": "code",
      "source": [
        "# Get color and normal from various viewpoints\n",
        "# change image name accordingly\n",
        "\n",
        "!accelerate launch --config_file 1gpu.yaml test_mvdiffusion_seq.py \\\n",
        "            --config configs/mvdiffusion-joint-ortho-6views.yaml validation_dataset.root_dir=./example_images \\\n",
        "            validation_dataset.filepaths=['snowGlobe.png'] save_dir=./outputs"
      ],
      "metadata": {
        "id": "n2s_2uj_mVeH"
      },
      "execution_count": null,
      "outputs": []
    },
    {
      "cell_type": "code",
      "source": [
        "# create a mesh\n",
        "# for dataset.scene=XXX use the base input name, without .png\n",
        "\n",
        "%cd ./instant-nsr-pl\n",
        "!python launch.py --config configs/neuralangelo-ortho-wmask.yaml --gpu 0 --train dataset.root_dir=/content/Wonder3D/outputs/cropsize-192-cfg1.0/snowGlobe dataset.scene=snowGlobe"
      ],
      "metadata": {
        "id": "JngJ-nr9msp_"
      },
      "execution_count": null,
      "outputs": []
    },
    {
      "cell_type": "code",
      "source": [
        "# Copy results to drive\n",
        "!cp -r /content/Wonder3D/outputs/cropsize-192-cfg1.0/snowGlobe /content/drive/MyDrive/snowGlobe\n",
        "!cp -r /content/Wonder3D/instant-nsr-pl/exp/snowGlobe/@20231215-034305 /content/drive/MyDrive/snowGlobe"
      ],
      "metadata": {
        "id": "Sx4AXXzqlWHV"
      },
      "execution_count": null,
      "outputs": []
    }
  ]
}