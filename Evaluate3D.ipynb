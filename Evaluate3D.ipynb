{
  "nbformat": 4,
  "nbformat_minor": 0,
  "metadata": {
    "colab": {
      "provenance": [],
      "authorship_tag": "ABX9TyM5P0yEh6PANzxY4ywLcAlO",
      "include_colab_link": true
    },
    "kernelspec": {
      "name": "python3",
      "display_name": "Python 3"
    },
    "language_info": {
      "name": "python"
    }
  },
  "cells": [
    {
      "cell_type": "markdown",
      "metadata": {
        "id": "view-in-github",
        "colab_type": "text"
      },
      "source": [
        "<a href=\"https://colab.research.google.com/github/git2andi/Bachelor/blob/main/Evaluate3D.ipynb\" target=\"_parent\"><img src=\"https://colab.research.google.com/assets/colab-badge.svg\" alt=\"Open In Colab\"/></a>"
      ]
    },
    {
      "cell_type": "code",
      "execution_count": null,
      "metadata": {
        "id": "imUpyzIdfY4f"
      },
      "outputs": [],
      "source": [
        "# Get Project\n",
        "%cd content\n",
        "!git clone https://github.com/git2andi/Evaluate3D.git\n",
        "%cd Evaluate3D\n",
        "\n",
        "# get requirements\n",
        "!pip install torch\n",
        "!pip install trimesh\n",
        "!pip install numpy\n",
        "!pip install SciPy\n",
        "!pip install torchvision\n",
        "!pip install ftfy\n",
        "!pip install regex\n",
        "!pip install tqdm\n",
        "!pip install git+https://github.com/openai/CLIP.git"
      ]
    },
    {
      "cell_type": "code",
      "source": [
        "# upload files to work with\n",
        "\n",
        "from PIL import Image\n",
        "from google.colab import files\n",
        "\n",
        "# Upload image/.obj files\n",
        "uploaded = files.upload()"
      ],
      "metadata": {
        "id": "CdS_Gys7fhi9"
      },
      "execution_count": null,
      "outputs": []
    },
    {
      "cell_type": "markdown",
      "source": [
        "## Clip Score evaluation"
      ],
      "metadata": {
        "id": "24vXUKC9Ulvv"
      }
    },
    {
      "cell_type": "markdown",
      "source": [
        "When using the script, it's mandatory to specify both `--path` and `--prompt` arguments.\n",
        "\n",
        "It's essential to provide more than two prompts each time, as using only one prompt will yield a score of 1, equating to 100%. The purpose of the script is to assess how well the given image aligns with each of the provided prompts."
      ],
      "metadata": {
        "id": "LVKqpYMJp6NZ"
      }
    },
    {
      "cell_type": "code",
      "source": [
        "# use --path path/to/image; --prompt \"Prompt 1\" \"Prompt 2\" ... \"Prompt n\"; --rotate yes/no\n",
        "!python getScore.py --path /content/Evaluate3D/magic123_fern_front_result.png --prompt \"a high quality rendering of a fern in a wooden pot\" \"a green chair\" \"a high quality rendering of a plant in a wooden pot\""
      ],
      "metadata": {
        "id": "Uvx4Wcu1VSSD"
      },
      "execution_count": null,
      "outputs": []
    },
    {
      "cell_type": "markdown",
      "source": [
        "## Symmetry Analysis"
      ],
      "metadata": {
        "id": "czrlLLykUn-S"
      }
    },
    {
      "cell_type": "markdown",
      "source": [
        "For the evaluation of symmetry, the process generates validation meshes, representing both halves before and after alignment. Therefore, it's necessary to specify a path for the output directory.\n",
        "\n",
        "Regarding the rotation parameter, it's important to note that for Wonder3D, the argument `--rotate no` should be used. For all other cases, the default value `--rotate yes` is used."
      ],
      "metadata": {
        "id": "l3ygK7Nnq_BX"
      }
    },
    {
      "cell_type": "code",
      "source": [
        "# --obj path/to/obj; --output_dir path/to/output\n",
        "\n",
        "!python main.py --obj /content/Evaluate3D/model.obj --output_dir /content/Evaluate3D/ --rotate yes"
      ],
      "metadata": {
        "colab": {
          "base_uri": "https://localhost:8080/"
        },
        "id": "bNPDv7SOTbIi",
        "outputId": "c36b840b-95e1-4afe-f3e3-1b54336faddc"
      },
      "execution_count": null,
      "outputs": [
        {
          "output_type": "stream",
          "name": "stdout",
          "text": [
            "Symmetry score: 95.37%\n"
          ]
        }
      ]
    }
  ]
}